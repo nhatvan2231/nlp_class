{
 "cells": [
  {
   "cell_type": "code",
   "execution_count": 1,
   "id": "0aa1b190",
   "metadata": {},
   "outputs": [],
   "source": [
    "import numpy as np\n",
    "import pandas as pd\n",
    "import matplotlib.pyplot as plt\n",
    "import tqdm.notebook as tqdm"
   ]
  },
  {
   "cell_type": "code",
   "execution_count": 2,
   "id": "9693d424",
   "metadata": {},
   "outputs": [],
   "source": [
    "# another dataset to test\n",
    "#https://www.kaggle.com/datasets/snap/amazon-fine-food-reviews\n",
    "# df = pd.read_csv('./Reviews.csv')"
   ]
  },
  {
   "cell_type": "markdown",
   "id": "e7139ba5",
   "metadata": {},
   "source": [
    "### Load Data"
   ]
  },
  {
   "cell_type": "code",
   "execution_count": 3,
   "id": "066490ba",
   "metadata": {},
   "outputs": [],
   "source": [
    "df = pd.read_csv('nytimes_data_final.csv')"
   ]
  },
  {
   "cell_type": "code",
   "execution_count": 4,
   "id": "fe08ef65",
   "metadata": {},
   "outputs": [],
   "source": [
    "corpus = df['text'].values"
   ]
  },
  {
   "cell_type": "code",
   "execution_count": 5,
   "id": "a0fc7ef5",
   "metadata": {},
   "outputs": [
    {
     "data": {
      "text/plain": [
       "5299"
      ]
     },
     "execution_count": 5,
     "metadata": {},
     "output_type": "execute_result"
    }
   ],
   "source": [
    "len(corpus)"
   ]
  },
  {
   "cell_type": "markdown",
   "id": "6affef6f",
   "metadata": {},
   "source": [
    "### Configurations"
   ]
  },
  {
   "cell_type": "code",
   "execution_count": 6,
   "id": "25061764",
   "metadata": {},
   "outputs": [],
   "source": [
    "lowercase = True\n",
    "tokenizer = lambda x: x.split()\n",
    "analyzer = 'word'\n",
    "stop_words = 'english'\n",
    "ngram_range = (1,1)\n",
    "max_features = None\n",
    "norm = 'l2'\n",
    "smooth_idf = True"
   ]
  },
  {
   "cell_type": "markdown",
   "id": "1f8cec45",
   "metadata": {},
   "source": [
    "### The Fast Version"
   ]
  },
  {
   "cell_type": "code",
   "execution_count": 7,
   "id": "093a287e",
   "metadata": {},
   "outputs": [],
   "source": [
    "from sklearn.feature_extraction.text import TfidfVectorizer"
   ]
  },
  {
   "cell_type": "code",
   "execution_count": 8,
   "id": "8956b960",
   "metadata": {},
   "outputs": [],
   "source": [
    "vectorizer = TfidfVectorizer(lowercase=lowercase,\n",
    "                            tokenizer=tokenizer,\n",
    "                            analyzer=analyzer,\n",
    "                            stop_words=stop_words,\n",
    "                            ngram_range=ngram_range,\n",
    "                            max_features=max_features,\n",
    "                            norm=norm,\n",
    "                            smooth_idf=smooth_idf)"
   ]
  },
  {
   "cell_type": "code",
   "execution_count": 9,
   "id": "cb011d09",
   "metadata": {},
   "outputs": [],
   "source": [
    "X = vectorizer.fit_transform(corpus)"
   ]
  },
  {
   "cell_type": "code",
   "execution_count": 10,
   "id": "8da4b5ba",
   "metadata": {},
   "outputs": [
    {
     "data": {
      "text/plain": [
       "array(['#blacklivesmatter,', '#blackouttuesday:', '#metoo', ...,\n",
       "       '“what’s', '…', '…’'], dtype=object)"
      ]
     },
     "execution_count": 10,
     "metadata": {},
     "output_type": "execute_result"
    }
   ],
   "source": [
    "vectorizer.get_feature_names_out()"
   ]
  },
  {
   "cell_type": "code",
   "execution_count": 11,
   "id": "f8198d42",
   "metadata": {},
   "outputs": [
    {
     "data": {
      "text/plain": [
       "(5299, 7718)"
      ]
     },
     "execution_count": 11,
     "metadata": {},
     "output_type": "execute_result"
    }
   ],
   "source": [
    "X.shape"
   ]
  },
  {
   "cell_type": "code",
   "execution_count": 12,
   "id": "83f26ba9",
   "metadata": {},
   "outputs": [],
   "source": [
    "w2i = vectorizer.vocabulary_ "
   ]
  },
  {
   "cell_type": "markdown",
   "id": "86cb5899",
   "metadata": {},
   "source": [
    "### Functions"
   ]
  },
  {
   "cell_type": "code",
   "execution_count": 13,
   "id": "41c8029c",
   "metadata": {},
   "outputs": [],
   "source": [
    "def calculate_similarity(embedding, q):\n",
    "    sims = []\n",
    "    for i in tqdm.tqdm(range(embedding.shape[0])):\n",
    "        v = embedding[i].toarray().reshape(-1,)\n",
    "        q = q.reshape(-1,)\n",
    "        sim = np.dot(q, v)/(np.linalg.norm(q)* np.linalg.norm(q))\n",
    "        sims.append(sim)\n",
    "    return sims"
   ]
  },
  {
   "cell_type": "markdown",
   "id": "6657df50",
   "metadata": {},
   "source": [
    "### Use It - Similarity among Documents"
   ]
  },
  {
   "cell_type": "code",
   "execution_count": 14,
   "id": "7a0771fe",
   "metadata": {},
   "outputs": [],
   "source": [
    "query = 'Trump twitter'"
   ]
  },
  {
   "cell_type": "code",
   "execution_count": 15,
   "id": "7c2633dc",
   "metadata": {},
   "outputs": [],
   "source": [
    "v_query = vectorizer.transform([query]).toarray()\n"
   ]
  },
  {
   "cell_type": "code",
   "execution_count": 16,
   "id": "5af789c9-cf02-49f1-b1c3-6b1d0459a68b",
   "metadata": {},
   "outputs": [
    {
     "data": {
      "text/plain": [
       "array([[0., 0., 0., ..., 0., 0., 0.]])"
      ]
     },
     "execution_count": 16,
     "metadata": {},
     "output_type": "execute_result"
    }
   ],
   "source": [
    "v_query"
   ]
  },
  {
   "cell_type": "code",
   "execution_count": 17,
   "id": "f944d859",
   "metadata": {},
   "outputs": [
    {
     "data": {
      "application/vnd.jupyter.widget-view+json": {
       "model_id": "e21af1f138814cc38035ec69d92e30ff",
       "version_major": 2,
       "version_minor": 0
      },
      "text/plain": [
       "  0%|          | 0/5299 [00:00<?, ?it/s]"
      ]
     },
     "metadata": {},
     "output_type": "display_data"
    }
   ],
   "source": [
    "sims = calculate_similarity(X, v_query)"
   ]
  },
  {
   "cell_type": "code",
   "execution_count": 18,
   "id": "e654e5bc",
   "metadata": {},
   "outputs": [],
   "source": [
    "idx = np.argsort(sims)[::-1]"
   ]
  },
  {
   "cell_type": "code",
   "execution_count": 19,
   "id": "e3af070b",
   "metadata": {},
   "outputs": [
    {
     "data": {
      "text/plain": [
       "array(['Another Tweet From Trump Gets a Label From Twitter',\n",
       "       'Another Tweet From Trump Gets a Label From Twitter',\n",
       "       'Facebook and Twitter Must Do More About Trump’s Tweets',\n",
       "       'Facebook and Twitter Must Do More About Trump’s Tweets',\n",
       "       'Facebook and Twitter Must Do More About Trump’s Tweets'],\n",
       "      dtype=object)"
      ]
     },
     "execution_count": 19,
     "metadata": {},
     "output_type": "execute_result"
    }
   ],
   "source": [
    "corpus[idx[:5]]"
   ]
  },
  {
   "cell_type": "markdown",
   "id": "55d066e3",
   "metadata": {},
   "source": [
    "### Visualize it"
   ]
  },
  {
   "cell_type": "code",
   "execution_count": 20,
   "id": "358c47a0",
   "metadata": {},
   "outputs": [],
   "source": [
    "from sklearn.decomposition import PCA"
   ]
  },
  {
   "cell_type": "code",
   "execution_count": 21,
   "id": "be92336c",
   "metadata": {},
   "outputs": [],
   "source": [
    "#https://web.stanford.edu/class/cs224n/materials/Gensim%20word%20vector%20visualization.html\n",
    "def display_pca_scatterplot(words=None, cs=None):\n",
    "    idx = [w2i.get(w) for w in words]\n",
    "    word_vectors = X.T[idx].toarray()\n",
    "    twodim = PCA().fit_transform(word_vectors)[:,:2]\n",
    "    plt.figure(figsize=(10,10))\n",
    "    plt.scatter(twodim[:,0], twodim[:,1], s=100, edgecolors='k', c='r' if not cs else cs)\n",
    "    for word, (x,y) in zip(words, twodim):\n",
    "        plt.text(x+0.05, y+0.05, word)"
   ]
  },
  {
   "cell_type": "code",
   "execution_count": 22,
   "id": "b882e793",
   "metadata": {},
   "outputs": [
    {
     "data": {
      "image/png": "[encoded data removed]",
      "text/plain": [
       "<Figure size 1000x1000 with 1 Axes>"
      ]
     },
     "metadata": {},
     "output_type": "display_data"
    }
   ],
   "source": [
    "display_pca_scatterplot(['trump',\n",
    "                         'republicans',\n",
    "                         'biden', \n",
    "                         'president', \n",
    "                         'shooting', \n",
    "                         'election', \n",
    "                         'lie',\n",
    "                         'twitter'])"
   ]
  },
  {
   "cell_type": "code",
   "execution_count": null,
   "id": "581531a7",
   "metadata": {},
   "outputs": [],
   "source": []
  }
 ],
 "metadata": {
  "kernelspec": {
   "display_name": "Python 3 (ipykernel)",
   "language": "python",
   "name": "python3"
  },
  "language_info": {
   "codemirror_mode": {
    "name": "ipython",
    "version": 3
   },
   "file_extension": ".py",
   "mimetype": "text/x-python",
   "name": "python",
   "nbconvert_exporter": "python",
   "pygments_lexer": "ipython3",
   "version": "3.9.13"
  }
 },
 "nbformat": 4,
 "nbformat_minor": 5
}
