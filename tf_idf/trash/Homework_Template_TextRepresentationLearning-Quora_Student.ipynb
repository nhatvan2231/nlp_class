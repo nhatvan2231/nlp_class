{
 "cells": [
  {
   "cell_type": "code",
   "execution_count": null,
   "id": "51d99863",
   "metadata": {},
   "outputs": [],
   "source": [
    "import numpy as np\n",
    "import pandas as pd\n",
    "import matplotlib.pyplot as plt\n",
    "import tqdm.notebook as tqdm\n",
    "from nltk.tokenize import wordpunct_tokenize\n",
    "from nltk.stem import WordNetLemmatizer\n",
    "from collections import OrderedDict\n",
    "from nltk.corpus import stopwords"
   ]
  },
  {
   "cell_type": "code",
   "execution_count": null,
   "id": "cf1079e1",
   "metadata": {},
   "outputs": [],
   "source": [
    "df_train = pd.read_csv('./quora_train.csv')\n",
    "df_test = pd.read_csv('./quora_test.csv')"
   ]
  },
  {
   "cell_type": "code",
   "execution_count": null,
   "id": "a76650fb",
   "metadata": {},
   "outputs": [],
   "source": [
    "corpus = list(df_test['question2'].values) + \\\n",
    "         list(df_train['question1'].values) +\\\n",
    "         list(df_train['question2'].values)\\\n",
    "                    \n",
    "queries = list(df_test['question1'].values)\n",
    "answers = list(df_test['question2'].values)\n",
    "answers_indices = list(range(len(df_test)))"
   ]
  },
  {
   "cell_type": "code",
   "execution_count": null,
   "id": "d64b3eca",
   "metadata": {},
   "outputs": [],
   "source": [
    "## THE REST OF YOUR CODE GOES HERE\n",
    "## THE REST OF YOUR CODE GOES HERE\n",
    "## THE REST OF YOUR CODE GOES HERE\n",
    "## THE REST OF YOUR CODE GOES HERE\n",
    "## THE REST OF YOUR CODE GOES HERE\n",
    "## THE REST OF YOUR CODE GOES HERE\n",
    "## THE REST OF YOUR CODE GOES HERE\n",
    "## THE REST OF YOUR CODE GOES HERE\n",
    "## THE REST OF YOUR CODE GOES HERE"
   ]
  },
  {
   "cell_type": "code",
   "execution_count": null,
   "id": "135c238b",
   "metadata": {},
   "outputs": [],
   "source": [
    "w2i, docs_in_tokens = basic_text_processing(corpus)\n",
    "assert len(docs_in_tokens) == len(corpus)"
   ]
  },
  {
   "cell_type": "code",
   "execution_count": null,
   "id": "1b3a64c3",
   "metadata": {},
   "outputs": [],
   "source": [
    "len(docs_in_tokens), len(w2i)"
   ]
  },
  {
   "cell_type": "code",
   "execution_count": null,
   "id": "4bdab0cd",
   "metadata": {},
   "outputs": [],
   "source": [
    "all_idf = calculate_idf(docs_in_tokens, w2i)\n",
    "assert len(all_idf) == len(w2i)"
   ]
  },
  {
   "cell_type": "code",
   "execution_count": null,
   "id": "229fd109",
   "metadata": {},
   "outputs": [],
   "source": [
    "tf_matrix = calculate_tf(docs_in_tokens, w2i)\n",
    "assert tf_matrix.shape == (len(w2i), len(docs_in_tokens))"
   ]
  },
  {
   "cell_type": "code",
   "execution_count": null,
   "id": "e1bd654b",
   "metadata": {},
   "outputs": [],
   "source": [
    "tf_idf = tf_matrix * all_idf.reshape(-1,1)"
   ]
  },
  {
   "cell_type": "code",
   "execution_count": null,
   "id": "99f39da6",
   "metadata": {},
   "outputs": [],
   "source": [
    "tf_idf.shape, tf_matrix.shape"
   ]
  },
  {
   "cell_type": "markdown",
   "id": "79a29c24",
   "metadata": {},
   "source": [
    "---"
   ]
  },
  {
   "cell_type": "markdown",
   "id": "8ff3740a",
   "metadata": {},
   "source": [
    "## Evaluation via Information Retrieval"
   ]
  },
  {
   "cell_type": "code",
   "execution_count": null,
   "id": "536512fa",
   "metadata": {},
   "outputs": [],
   "source": [
    "def search(query, k):\n",
    "    q = transform(query, w2i, all_idf)\n",
    "    sims = []\n",
    "    for i in range(tf_idf.shape[1]):\n",
    "        v = tf_idf[:,i].reshape(-1,)\n",
    "        sim = np.dot(q, v)/(np.linalg.norm(q)* np.linalg.norm(v))\n",
    "        sims.append(sim)\n",
    "    idx = np.argsort(sims)[::-1]\n",
    "    return idx[:k]"
   ]
  },
  {
   "cell_type": "code",
   "execution_count": null,
   "id": "5040bcab",
   "metadata": {},
   "outputs": [],
   "source": [
    "query = \"Trump and Biden\"\n",
    "found_idx = search(query, 10)\n",
    "[corpus[i] for i in found_idx]"
   ]
  },
  {
   "cell_type": "code",
   "execution_count": null,
   "id": "4798be0d",
   "metadata": {},
   "outputs": [],
   "source": [
    "test_set = queries"
   ]
  },
  {
   "cell_type": "code",
   "execution_count": null,
   "id": "8042d172",
   "metadata": {},
   "outputs": [],
   "source": [
    "avg_acc = []\n",
    "rng = np.random.default_rng(seed=7)\n",
    "idx = rng.choice(len(test_set), 100)\n",
    "for i in tqdm.tqdm(idx):\n",
    "    query = test_set[i]\n",
    "    found_idx = set(search(query, 20))\n",
    "    acc = i in found_idx\n",
    "    avg_acc.append(acc)\n",
    "    print(\"'{}'\".format(query), \"Found =\", bool(acc))\n",
    "avg_acc = np.mean(avg_acc)\n",
    "print(\"Average Accuracy@20\", avg_acc)"
   ]
  }
 ],
 "metadata": {
  "kernelspec": {
   "display_name": "Python 3 (ipykernel)",
   "language": "python",
   "name": "python3"
  },
  "language_info": {
   "codemirror_mode": {
    "name": "ipython",
    "version": 3
   },
   "file_extension": ".py",
   "mimetype": "text/x-python",
   "name": "python",
   "nbconvert_exporter": "python",
   "pygments_lexer": "ipython3",
   "version": "3.10.6"
  }
 },
 "nbformat": 4,
 "nbformat_minor": 5
}
