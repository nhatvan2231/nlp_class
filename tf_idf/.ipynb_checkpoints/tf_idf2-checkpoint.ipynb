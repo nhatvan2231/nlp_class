{
 "cells": [
  {
   "cell_type": "code",
   "execution_count": 8,
   "id": "51d99863",
   "metadata": {},
   "outputs": [],
   "source": [
    "import numpy as np\n",
    "import pandas as pd\n",
    "import matplotlib.pyplot as plt\n",
    "import tqdm.notebook as tqdm\n",
    "from nltk.tokenize import wordpunct_tokenize\n",
    "from nltk.stem import WordNetLemmatizer\n",
    "from collections import OrderedDict\n",
    "from nltk.corpus import stopwords"
   ]
  },
  {
   "cell_type": "code",
   "execution_count": 9,
   "id": "cf1079e1",
   "metadata": {},
   "outputs": [],
   "source": [
    "df_train = pd.read_csv('./quora_train.csv')\n",
    "df_test = pd.read_csv('./quora_test.csv')"
   ]
  },
  {
   "cell_type": "code",
   "execution_count": 10,
   "id": "a76650fb",
   "metadata": {},
   "outputs": [],
   "source": [
    "corpus = list(df_test['question2'].values) + \\\n",
    "         list(df_train['question1'].values) +\\\n",
    "         list(df_train['question2'].values)\\\n",
    "                    \n",
    "queries = list(df_test['question1'].values)\n",
    "answers = list(df_test['question2'].values)\n",
    "answers_indices = list(range(len(df_test)))"
   ]
  },
  {
   "cell_type": "code",
   "execution_count": 11,
   "id": "d64b3eca",
   "metadata": {},
   "outputs": [],
   "source": [
    "from collections import Counter\n",
    "## THE REST OF YOUR CODE GOES HERE\n",
    "remove_stopwords = False\n",
    "use_lemmatization = False\n",
    "l2_normalize_tf_idf = False\n",
    "lemmatizer = WordNetLemmatizer()\n",
    "## THE REST OF YOUR CODE GOES HERE\n",
    "def calculate_similarity(q, v):\n",
    "    sim = np.dot(q, v)/(np.linalg.norm(q)* np.linalg.norm(v))\n",
    "    \n",
    "    return sim\n",
    "## THE REST OF YOUR CODE GOES HERE\n",
    "def tokenize_doc(sent, lemma=False, remove_stopwords=False):\n",
    "    # a simple tokenizer with case folding and an option to use lemmatization or remove stopwords\n",
    "    sent = sent.lower()\n",
    "    tokens = sent.split()\n",
    "    if lemma:\n",
    "        tokens = [lemmatizer.lemmatize(token) for token in tokens]\n",
    "    if remove_stopwords:\n",
    "        tokens = [token for token in tokens if token not in stopwords.words('english')]\n",
    "        \n",
    "    return tokens\n",
    "## THE REST OF YOUR CODE GOES HERE\n",
    "def basic_text_processing(corpus):\n",
    "    # This function will go through the corpus and outputs two components\n",
    "    # w2i: the mapping of a vocabular to in index. This is also our vocabulary\n",
    "    # docs_in_tokens: list of extracted tokens for each document\n",
    "    vocab = set()\n",
    "    docs_in_tokens = []\n",
    "    for doc in corpus:\n",
    "        tokens = tokenize_doc(doc, lemma = use_lemmatization, remove_stopwords=remove_stopwords)\n",
    "        vocab.update(set(tokens))\n",
    "        docs_in_tokens.append(tokens)\n",
    "    vocab = list(vocab)\n",
    "    vocab.sort()\n",
    "    w2i = OrderedDict()\n",
    "    for i, word in enumerate(vocab):\n",
    "        w2i[word] = i\n",
    "    \n",
    "    return w2i, docs_in_tokens\n",
    "## THE REST OF YOUR CODE GOES HERE\n",
    "def calculate_idf(docs_in_tokens, w2i):\n",
    "    # TASK: given the list of tokens for each document (docs_in_tokens) and the vocabulary (w2i),\n",
    "    # you are asked to calculate the inverse document frequency (IDF) of each word using the formulation\n",
    "    # log10(N/(df+1))\n",
    "    # RETURN: all_idf vector (or a column) contains all the IDF of all words in the vocabulary\n",
    "    \n",
    "    all_idf = [] #initialize the list of all idf values\n",
    "    \n",
    "    # TODO:\n",
    "    N = len(docs_in_tokens)\n",
    "    w_fre = [Counter(doc) for doc in docs_in_tokens]\n",
    "    for w in w2i:\n",
    "        idf = 0\n",
    "        for i,doc in enumerate(docs_in_tokens):\n",
    "            if w_fre[i][w] > 0:\n",
    "                idf += 1\n",
    "        idf = np.log10(idf)\n",
    "        all_idf.append(idf)\n",
    "    \n",
    "    return np.array(all_idf)\n",
    "## THE REST OF YOUR CODE GOES HERE\n",
    "def calculate_tf(docs_in_tokens, w2i):\n",
    "    # TASK: given the list of tokens for each document (docs_in_tokens) and the vocabulary (w2i),\n",
    "    # you are asked to calculate the term-frequency table or matrix using the formulation:\n",
    "    # tf = log10(frequency+1)\n",
    "    # RETURN: tf_matrix as the term-frequency table\n",
    "    \n",
    "    tf_matrix = np.zeros((len(w2i), len(docs_in_tokens))) #initialize as a matrix/table of all zeros\n",
    "    \n",
    "    # TODO\n",
    "    N = len(docs_in_tokens)\n",
    "    w_fre = [Counter(doc) for doc in docs_in_tokens]\n",
    "    for w in w2i:\n",
    "        for i,doc in enumerate(docs_in_tokens):\n",
    "            tf = w_fre[i][w]\n",
    "            tf_matrix[w2i[w],i] = np.log10(tf+1)\n",
    "    return tf_matrix\n",
    "## THE REST OF YOUR CODE GOES HERE\n",
    "def transform(query, w2i, all_idf):\n",
    "    # TASK: given a string query, you are asked to utilize the extracted vocabulary (w2i)\n",
    "    # and idf value for each word to transform a query into a respective tf-idf vector\n",
    "    # RETURN: tf_idf_query\n",
    "    \n",
    "    tf_idf_query = []\n",
    "    \n",
    "    #TODO\n",
    "    q = [tokenize_doc(query, True, remove_stopwords=False)]\n",
    "    tf_query = calculate_tf(q, w2i)\n",
    "    #idf_query = calculate_idf(query, w2i)\n",
    "    tf_idf_query = (tf_query*all_idf.reshape(-1,1)).reshape(-1,)\n",
    "    #tf_idf_query = tf_idf_query.reshape(-1,)\n",
    "    return np.array(tf_idf_query)\n",
    "## THE REST OF YOUR CODE GOES HERE\n",
    "## THE REST OF YOUR CODE GOES HERE"
   ]
  },
  {
   "cell_type": "code",
   "execution_count": 12,
   "id": "135c238b",
   "metadata": {},
   "outputs": [],
   "source": [
    "w2i, docs_in_tokens = basic_text_processing(corpus)\n",
    "assert len(docs_in_tokens) == len(corpus)"
   ]
  },
  {
   "cell_type": "code",
   "execution_count": 13,
   "id": "1b3a64c3",
   "metadata": {},
   "outputs": [
    {
     "data": {
      "text/plain": [
       "(26517, 17127)"
      ]
     },
     "execution_count": 13,
     "metadata": {},
     "output_type": "execute_result"
    }
   ],
   "source": [
    "len(docs_in_tokens), len(w2i)"
   ]
  },
  {
   "cell_type": "code",
   "execution_count": 14,
   "id": "4bdab0cd",
   "metadata": {},
   "outputs": [],
   "source": [
    "all_idf = calculate_idf(docs_in_tokens, w2i)\n",
    "assert len(all_idf) == len(w2i)"
   ]
  },
  {
   "cell_type": "code",
   "execution_count": 15,
   "id": "229fd109",
   "metadata": {},
   "outputs": [],
   "source": [
    "tf_matrix = calculate_tf(docs_in_tokens, w2i)\n",
    "assert tf_matrix.shape == (len(w2i), len(docs_in_tokens))"
   ]
  },
  {
   "cell_type": "code",
   "execution_count": 16,
   "id": "e1bd654b",
   "metadata": {},
   "outputs": [],
   "source": [
    "tf_idf = tf_matrix * all_idf.reshape(-1,1)"
   ]
  },
  {
   "cell_type": "code",
   "execution_count": 17,
   "id": "99f39da6",
   "metadata": {},
   "outputs": [
    {
     "data": {
      "text/plain": [
       "((17127, 26517), (17127, 26517))"
      ]
     },
     "execution_count": 17,
     "metadata": {},
     "output_type": "execute_result"
    }
   ],
   "source": [
    "tf_idf.shape, tf_matrix.shape"
   ]
  },
  {
   "cell_type": "markdown",
   "id": "79a29c24",
   "metadata": {},
   "source": [
    "---"
   ]
  },
  {
   "cell_type": "markdown",
   "id": "8ff3740a",
   "metadata": {},
   "source": [
    "## Evaluation via Information Retrieval"
   ]
  },
  {
   "cell_type": "code",
   "execution_count": 18,
   "id": "536512fa",
   "metadata": {},
   "outputs": [],
   "source": [
    "def search(query, k):\n",
    "    q = transform(query, w2i, all_idf)\n",
    "    sims = []\n",
    "    for i in range(tf_idf.shape[1]):\n",
    "        v = tf_idf[:,i].reshape(-1,)\n",
    "        sim = np.dot(q, v)/(np.linalg.norm(q)* np.linalg.norm(v))\n",
    "        sims.append(sim)\n",
    "    idx = np.argsort(sims)[::-1]\n",
    "    return idx[:k]"
   ]
  },
  {
   "cell_type": "code",
   "execution_count": 19,
   "id": "5040bcab",
   "metadata": {},
   "outputs": [
    {
     "data": {
      "text/plain": [
       "['Were George Reeves and Christopher Reeves related?',\n",
       " 'How and why did trump win?',\n",
       " 'Who won the second presidential debate between Trump and Hilary?',\n",
       " 'Differences between Roman and Greek arts?',\n",
       " 'How do concentric and eccentric contraction compare and contrast?',\n",
       " 'How do eccentric and concentric contractions compare and contrast?',\n",
       " 'Is this dress blue and black, or white and gold?',\n",
       " 'Difference between criteria and criterion?',\n",
       " 'Are peanut butter and jelly sandwiches healthy?',\n",
       " 'Who won the 2016 September 26th presidential debate between Trump and Hillary?']"
      ]
     },
     "execution_count": 19,
     "metadata": {},
     "output_type": "execute_result"
    }
   ],
   "source": [
    "query = \"Trump and Biden\"\n",
    "found_idx = search(query, 10)\n",
    "[corpus[i] for i in found_idx]"
   ]
  },
  {
   "cell_type": "code",
   "execution_count": 20,
   "id": "4798be0d",
   "metadata": {},
   "outputs": [],
   "source": [
    "test_set = queries"
   ]
  },
  {
   "cell_type": "code",
   "execution_count": 21,
   "id": "8042d172",
   "metadata": {},
   "outputs": [
    {
     "data": {
      "application/vnd.jupyter.widget-view+json": {
       "model_id": "46bebc039ce9422dbbd6879592cb0ad0",
       "version_major": 2,
       "version_minor": 0
      },
      "text/plain": [
       "  0%|          | 0/100 [00:00<?, ?it/s]"
      ]
     },
     "metadata": {},
     "output_type": "display_data"
    },
    {
     "name": "stdout",
     "output_type": "stream",
     "text": [
      "'What is the QuickBooks Hosting Support Number?' Found = False\n",
      "'Who will win the US elections 2016?' Found = False\n",
      "'Who viewed my profile on Instagram?' Found = False\n",
      "'How can I hack my phone?' Found = False\n",
      "'What is the most popular cartoon character in the world?' Found = False\n",
      "'What is/are your most horrifying stories about ghost or any paranormal activities you ever faced?' Found = False\n",
      "'Does long distance relationship works?' Found = True\n",
      "'All biases aside, at this point in time, who do you think will win the presidential election?' Found = False\n",
      "'How ca n I improve my communication skill?' Found = False\n",
      "'What is this GST bill all about?' Found = True\n",
      "'Which book is best for data structures and algorithms for beginners?' Found = False\n",
      "'What is difference between acid-base indicator and metal ion indicator?' Found = False\n",
      "'Should India declare war against Pakistan?' Found = False\n",
      "'What is your review of Passengers (movie) starring Jennifer Lawrence and Chris Pratt?' Found = True\n",
      "'What is the best phone to buy below 15k?' Found = False\n",
      "'Which is the best web hosting site?' Found = True\n",
      "'How do you stop a German Shepherd/Golden Retriever mix puppy from chewing your shoes?' Found = False\n",
      "'Which is your favorite documentary and why?' Found = False\n",
      "'What is the most important lesson ever learned in your life?' Found = False\n",
      "'Which movies should you watch right now?' Found = False\n",
      "'What impact could a Trump presidency have on Silicon Valley?' Found = False\n",
      "'Why does February has only 28 or 29 days? Why not similar to other months?' Found = False\n",
      "'How can I increase my typing speed fast?' Found = False\n",
      "'How can I learn sketching?' Found = False\n",
      "'Why are you a Muslim and how did you come to Islam?' Found = False\n",
      "'How many rough papers are given in JEE mains online exam?' Found = True\n",
      "'Is Rourkela steel plant going to recruit Oct trainee post in 2017?' Found = True\n",
      "'Why do you follow people on Quora?' Found = False\n",
      "'Do you think demonetization will lead to end of Black Money in India?' Found = False\n",
      "'From where can I pursue digital marketing course?' Found = False\n",
      "'How can I hack mobile phone?' Found = False\n",
      "'How will Trump supporters feel if Trump fails to deliver his promises such as building a wall and repealing Obamacare?' Found = False\n",
      "'How can I increase my verbal ability?' Found = False\n",
      "'How can I be more talkative?' Found = False\n",
      "'What is Hillary Clinton`s stance on India?' Found = True\n",
      "'How do kill myself?' Found = False\n",
      "'Why is it that the American government is so corrupt?' Found = True\n",
      "'What are the best sites to download songs?' Found = False\n",
      "'How can I increase my typing speed fast?' Found = False\n",
      "'How did the Roman Empire collapse?' Found = True\n",
      "'Which movies should you watch right now?' Found = False\n",
      "'What do economist think of Georgism?' Found = False\n",
      "'How did Donald trump win?' Found = False\n",
      "'How can the drive from Edmonton to Auckland be described, and how do these cities' attractions compare to those in Montreal?' Found = True\n",
      "'How do I bring traffic to my blog?' Found = False\n",
      "'What is the new GST bill and how will it affect us?' Found = False\n",
      "'Is it possible to disprove God?' Found = False\n",
      "'Which phone you prefer windows or Android and why?' Found = True\n",
      "'When was the last year that America was great according to the Trump campaign?' Found = True\n",
      "'Is reservation necessary in India?' Found = True\n",
      "'What are the career scopes after doing a BSc in Maths?' Found = False\n",
      "'Why are metals good conductor of heat and electricity?' Found = True\n",
      "'How can we improve our brain power?' Found = False\n",
      "'Which movies should you watch right now?' Found = False\n",
      "'What is Hillary Clinton`s stance on India?' Found = True\n",
      "'Why do people believe the earth is flat when clearly earth is round from space?' Found = False\n",
      "'Is (space-) time quantized or continuous?' Found = False\n",
      "'Why do you smell burnt toast before you have a stroke?' Found = False\n",
      "'How do I stay motivated to attain my goals?' Found = False\n",
      "'How can I increase my reasoning ability?' Found = False\n",
      "'Can I make 800,000 a month betting on horses?' Found = True\n",
      "'What are some amazing facts about Africa?' Found = True\n",
      "'Why are handicraft popular?' Found = False\n",
      "'How can I start my study plan for IAS?' Found = False\n",
      "'What are the differences between pharmacogenetics and pharmacogenomics?' Found = True\n",
      "'How can I apply for internship at Google? Is there age limit?' Found = False\n",
      "'How can I speak English more fluently?' Found = False\n",
      "'How can I improve my speaking?' Found = False\n",
      "'How does it feel to be a gay or lesbian in India?' Found = True\n",
      "'How can I ever become happy?' Found = False\n",
      "'How does one learn to play chess?' Found = True\n",
      "'How can I effectively lose belly fat?' Found = False\n",
      "'Who do you think will win the 2016 presidential election?' Found = False\n",
      "'What is Bernoullis equation?' Found = False\n",
      "'Is there infinite energy in the universe?' Found = False\n",
      "'What is best way to learn English speaking?' Found = False\n",
      "'Which are some of the best romantic movies?' Found = False\n",
      "'Is World War III coming?' Found = False\n",
      "'Why do Muslims not eat pork?' Found = False\n",
      "'What is the twin paradox and how does it work?' Found = False\n",
      "'How reliable are lie detector tests in 2016?' Found = False\n",
      "'What are the best ways to get rid of an addiction?' Found = False\n",
      "'Which is the best website designing company in delhi ncr?' Found = False\n",
      "'How does one learn to play chess?' Found = True\n",
      "'Why is Saltwater taffy candy imported in China?' Found = False\n",
      "'How can I increase my verbal ability?' Found = False\n",
      "'How can I download videos from hostar?' Found = False\n",
      "'If there is no gravity in space, why are planets spherical?' Found = False\n",
      "'Why India has been unable to produce quality fast bowlers?' Found = True\n",
      "'What are your views on Cyrus Mistry being removed as Chairperson of Tata Sons?' Found = False\n",
      "'What's the difference between CR2032 and CR2025 batteries? What are their pros and cons?' Found = False\n",
      "'Are there any Android app developer course Online training?' Found = False\n",
      "'What makes people hate brahmins?' Found = False\n",
      "'If energy is created (as it's not conserved in our expanding universe) can infinite of it be created? If yes, is potential energy/potentiality infinite?' Found = False\n",
      "'Why do people ask questions whose answer can be easily found on the internet?' Found = False\n",
      "'What is the best gift one can give to their parents?' Found = True\n",
      "'Is Islam a religion of peace or a religion of stone age?' Found = True\n",
      "'Is there a single case of a successful long distance relationship?' Found = False\n",
      "'What is the new GST bill and how will it affect us?' Found = False\n",
      "'How can i earn money through blogging in India?' Found = False\n",
      "Average Accuracy@20 0.24\n"
     ]
    }
   ],
   "source": [
    "avg_acc = []\n",
    "rng = np.random.default_rng(seed=7)\n",
    "idx = rng.choice(len(test_set), 100)\n",
    "for i in tqdm.tqdm(idx):\n",
    "    query = test_set[i]\n",
    "    found_idx = set(search(query, 20))\n",
    "    acc = i in found_idx\n",
    "    avg_acc.append(acc)\n",
    "    print(\"'{}'\".format(query), \"Found =\", bool(acc))\n",
    "avg_acc = np.mean(avg_acc)\n",
    "print(\"Average Accuracy@20\", avg_acc)"
   ]
  }
 ],
 "metadata": {
  "kernelspec": {
   "display_name": "Python 3 (ipykernel)",
   "language": "python",
   "name": "python3"
  },
  "language_info": {
   "codemirror_mode": {
    "name": "ipython",
    "version": 3
   },
   "file_extension": ".py",
   "mimetype": "text/x-python",
   "name": "python",
   "nbconvert_exporter": "python",
   "pygments_lexer": "ipython3",
   "version": "3.9.13"
  }
 },
 "nbformat": 4,
 "nbformat_minor": 5
}
