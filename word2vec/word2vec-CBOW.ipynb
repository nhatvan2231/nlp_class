{
 "cells": [
  {
   "cell_type": "code",
   "execution_count": 50,
   "id": "b496481c",
   "metadata": {},
   "outputs": [],
   "source": [
    "import numpy as np\n",
    "import pandas as pd\n",
    "import random \n",
    "import torch\n",
    "import regex as re\n",
    "from nltk.corpus import stopwords\n",
    "from collections import Counter\n",
    "\n",
    "from nltk.tokenize import wordpunct_tokenize\n",
    "from nltk.stem import WordNetLemmatizer\n",
    "from nltk import RegexpTokenizer \n",
    "from collections import OrderedDict\n",
    "from nltk.corpus import stopwords\n",
    "\n",
    "from torch import nn\n",
    "from torch.functional import F\n",
    "from torch import optim\n",
    "from tqdm import tqdm"
   ]
  },
  {
   "cell_type": "code",
   "execution_count": 51,
   "id": "15523422",
   "metadata": {},
   "outputs": [],
   "source": [
    "remove_stopwords = True\n",
    "use_lemmatization = True\n",
    "lemmatizer = WordNetLemmatizer()\n",
    "tokenizer = RegexpTokenizer(r\"\\w+\")\n",
    "catchedStopWords = stopwords.words('english')"
   ]
  },
  {
   "cell_type": "code",
   "execution_count": 52,
   "id": "e6cb8b00",
   "metadata": {},
   "outputs": [],
   "source": [
    "def tokenize_doc(sent,\n",
    "                 lemma=False, \n",
    "                 remove_stopwords=False):\n",
    "    \n",
    "    # a simple tokenizer with case folding and an option to use lemmatization\n",
    "    sent = sent.lower()\n",
    "    tokens = sent.split()\n",
    "    \n",
    "    if lemma:\n",
    "        tokens = [lemmatizer.lemmatize(token) for token in tokens]\n",
    "    if remove_stopwords:\n",
    "        tokens = [token for token in tokens if token not in catchedStopWords]\n",
    "    return tokens\n",
    "\n",
    "def basic_text_processing(corpus, num_words):\n",
    "    vocab = set()\n",
    "    all_tokens = []\n",
    "    \n",
    "    # tokenization\n",
    "    for doc in tqdm(corpus):\n",
    "        tokens = tokenize_doc(doc, lemma=use_lemmatization, remove_stopwords=remove_stopwords)\n",
    "        vocab.update(set(tokens))\n",
    "        all_tokens.extend(tokens)\n",
    "    print(\"Tokenization complete\")\n",
    "    # TODO START\n",
    "    # We only want to train with the top num_words MOST FREQUENT words\n",
    "    # Output a variable called ``train_tokens\" that is similar to all_tokens\n",
    "    # variable but without infrequent words\n",
    "    freq_words = Counter(all_tokens)\n",
    "    freq_words = sorted(freq_words, key=freq_words.get, reverse=True)\n",
    "    freq_words = freq_words[:num_words]\n",
    "    train_tokens = [token for token in all_tokens if token in freq_words]\n",
    "    # TODO END\n",
    "    \n",
    "    # generating vocabulary from the train_tokens\n",
    "    word_counts = Counter(train_tokens)\n",
    "    sorted_vocab = sorted(word_counts, key=word_counts.get, reverse=True) \n",
    "    i2w = {ii: word for ii, word in enumerate(sorted_vocab)}\n",
    "    w2i = {word: ii for ii, word in i2w.items()}\n",
    "    \n",
    "    return  w2i, i2w, train_tokens"
   ]
  },
  {
   "cell_type": "code",
   "execution_count": 53,
   "id": "05b360ce",
   "metadata": {},
   "outputs": [],
   "source": [
    "def get_contexts(words, idx):\n",
    "    contexts = [words[idx-2], words[idx-1], words[idx+1], words[idx+2]]\n",
    "    return contexts"
   ]
  },
  {
   "cell_type": "code",
   "execution_count": 54,
   "id": "c8a6fc24",
   "metadata": {},
   "outputs": [],
   "source": [
    "def get_batches(words, batch_size):  #, window_size = 4):\n",
    "    for i in range(0, len(words), batch_size):\n",
    "        curr = words[i:i + batch_size]   # current batch\n",
    "        batch_x, batch_y = [], []\n",
    "        #batch = []\n",
    "        for ii in range(2,len(curr)-2):\n",
    "            x = get_contexts(curr, ii)\n",
    "            y = [curr[ii]]\n",
    "            #batch.append((x,y))\n",
    "            batch_x.extend(x)\n",
    "            batch_y.extend(y * len(x))\n",
    "        \n",
    "        yield batch_x, batch_y"
   ]
  },
  {
   "cell_type": "code",
   "execution_count": 55,
   "id": "82365530",
   "metadata": {},
   "outputs": [
    {
     "name": "stderr",
     "output_type": "stream",
     "text": [
      "Found cached dataset cc_news (/home/nate/.cache/huggingface/datasets/cc_news/plain_text/1.0.0/ae469e556251e6e7e20a789f93803c7de19d0c4311b6854ab072fecb4e401bd6)\n"
     ]
    },
    {
     "data": {
      "application/vnd.jupyter.widget-view+json": {
       "model_id": "029c0fcba0bf4676b30f94228517d77b",
       "version_major": 2,
       "version_minor": 0
      },
      "text/plain": [
       "  0%|          | 0/1 [00:00<?, ?it/s]"
      ]
     },
     "metadata": {},
     "output_type": "display_data"
    }
   ],
   "source": [
    "#CC-News dataset contains news articles from news sites all over the world. \n",
    "#The data is available on AWS S3 in the Common Crawl bucket at /crawl-data/CC-NEWS/. \n",
    "#This version of the dataset has been prepared using news-please - an integrated web crawler and information extractor for news.\n",
    "#It contains 708241 English language news articles published between Jan 2017 and December 2019. \n",
    "#It represents a small portion of the English language subset of the CC-News dataset.\n",
    "\n",
    "from datasets import load_dataset\n",
    "dataset = load_dataset(\"cc_news\")\n",
    "corpus = dataset['train']['text'][:150000]\n"
   ]
  },
  {
   "cell_type": "code",
   "execution_count": 56,
   "id": "54236747",
   "metadata": {},
   "outputs": [],
   "source": [
    "# all configurations go here\n",
    "# TODO\n",
    "# You will need to set configurations below to a suitable values\n",
    "# As for learning rate, the current value should work (but you are welcome to change it)\n",
    "n_vocab = 50000  # maximum size of vocab\n",
    "n_embed = 500 # size of embedding\n",
    "lr = 0.003 # learning rate\n",
    "ws = 5  # window size\n",
    "batch_size =  50 # batch size for sampling positive examples\n",
    "n_epochs =  5 #umber of training epochs\n",
    "device = 'cpu'"
   ]
  },
  {
   "cell_type": "code",
   "execution_count": 57,
   "id": "d89e2023",
   "metadata": {},
   "outputs": [
    {
     "name": "stderr",
     "output_type": "stream",
     "text": [
      "100%|████████████████████████████████████████████████████████████████████████| 150000/150000 [02:35<00:00, 965.83it/s]\n"
     ]
    },
    {
     "name": "stdout",
     "output_type": "stream",
     "text": [
      "Tokenization complete\n",
      "Vocab Size: 50000\n"
     ]
    }
   ],
   "source": [
    "# this cell might take 20 minutes to run, so be patient!\n",
    "# optional: you might want to save these intermediate results to disk\n",
    "# so that next time you open Google Colab, you don't need to\n",
    "# run this again\n",
    "w2i, i2w, train_tokens = basic_text_processing(corpus, num_words=n_vocab)\n",
    "int_words = [w2i[token] for token in train_tokens]\n",
    "print(\"Vocab Size:\", len(w2i))"
   ]
  },
  {
   "cell_type": "markdown",
   "id": "8b3ced48",
   "metadata": {},
   "source": [
    "### Training"
   ]
  },
  {
   "cell_type": "code",
   "execution_count": 58,
   "id": "540d1f17",
   "metadata": {},
   "outputs": [],
   "source": [
    "def train_cbow(    C,\n",
    "                   W,\n",
    "                   int_words,\n",
    "                   n_vocab,\n",
    "                   n_embed,\n",
    "                   learning_rate,\n",
    "                   batch_size,\n",
    "                   n_epochs,\n",
    "                   print_every=100):\n",
    "    \n",
    "    optimizer = optim.Adam([C, W], lr=learning_rate)    \n",
    "    \n",
    "    C = torch.nn.init.uniform_(W, -0.10, +0.10)\n",
    "    W = torch.nn.init.uniform_(C, -0.10, +0.10)\n",
    "\n",
    "    step = 0\n",
    "    \n",
    "    for epoch in range(n_epochs):\n",
    "        for inputs, targets in get_batches(int_words, batch_size=batch_size):\n",
    "            step += 1\n",
    "            \n",
    "            contexts_indices = torch.LongTensor(inputs).to(device) # number_batches x window_size\n",
    "            targets_indices = torch.LongTensor(targets).to(device) # number_batches x label\n",
    "            \n",
    "            \n",
    "            # retrieve vectors of target words and positive context words\n",
    "            embeded_contexts = C[contexts_indices] # number_batches x window_size x embedding\n",
    "            embeded_targets = W[targets_indices] # number_batches x label x embedding\n",
    "            \n",
    "            b_size, embed_size = embeded_contexts.shape\n",
    "               \n",
    "            \n",
    "            #print(embeded_targets.shape)\n",
    "            #print(embeded_pos_contexts.shape)\n",
    "            #print(embed_neg_contexts.shape)\n",
    "            # TODO START\n",
    "            # calculating the final loss and output it to ``loss\" variable\n",
    "            embeded_contexts = embeded_contexts.view(b_size,embed_size,1)\n",
    "            embeded_targets = embeded_targets.view(b_size, 1, embed_size) \n",
    "            z = torch.bmm(embeded_targets, embeded_contexts).sigmoid().squeeze()\n",
    "            a = z/z.sum()\n",
    "            loss = -(1/len(a))*(z*torch.log(a)+(1-z)*torch.log(1-a)).sum()\n",
    "        \n",
    "            #print(loss[0])\n",
    "            \n",
    "            # TODO END\n",
    "            \n",
    "            \n",
    "            # optimization\n",
    "            optimizer.zero_grad()\n",
    "            loss.backward()\n",
    "            optimizer.step()\n",
    "            \n",
    "            if (step % print_every) == 0:\n",
    "                print(\"Epoch: {}/{} | Loss: {:.4f}\".format(epoch+1, n_epochs, loss.item()))\n"
   ]
  },
  {
   "cell_type": "code",
   "execution_count": 59,
   "id": "4747672d",
   "metadata": {},
   "outputs": [],
   "source": [
    "# initialization of W and C weight matrix\n",
    "C = torch.nn.Parameter(torch.zeros((n_vocab, n_embed), dtype=torch.float32))\n",
    "W = torch.nn.Parameter(torch.zeros((n_vocab, n_embed), dtype=torch.float32))"
   ]
  },
  {
   "cell_type": "code",
   "execution_count": 60,
   "id": "fb795023",
   "metadata": {
    "scrolled": true
   },
   "outputs": [
    {
     "name": "stdout",
     "output_type": "stream",
     "text": [
      "Epoch: 1/5 | Loss: 2.5975\n",
      "Epoch: 1/5 | Loss: 2.6078\n",
      "Epoch: 1/5 | Loss: 2.4271\n",
      "Epoch: 1/5 | Loss: 2.0610\n",
      "Epoch: 1/5 | Loss: 2.5484\n",
      "Epoch: 1/5 | Loss: 2.5351\n",
      "Epoch: 1/5 | Loss: 0.0884\n",
      "Epoch: 1/5 | Loss: 2.1488\n",
      "Epoch: 1/5 | Loss: 2.5394\n",
      "Epoch: 1/5 | Loss: 2.5591\n",
      "Epoch: 1/5 | Loss: 2.5000\n",
      "Epoch: 1/5 | Loss: 2.5473\n",
      "Epoch: 1/5 | Loss: 2.5401\n",
      "Epoch: 1/5 | Loss: 2.5123\n",
      "Epoch: 1/5 | Loss: 2.4314\n",
      "Epoch: 1/5 | Loss: 2.3596\n",
      "Epoch: 1/5 | Loss: 2.3724\n",
      "Epoch: 1/5 | Loss: 2.3917\n",
      "Epoch: 1/5 | Loss: 2.6184\n",
      "Epoch: 1/5 | Loss: 2.4621\n",
      "Epoch: 1/5 | Loss: 2.2114\n",
      "Epoch: 1/5 | Loss: 2.1476\n",
      "Epoch: 1/5 | Loss: 0.7039\n",
      "Epoch: 1/5 | Loss: 0.7535\n",
      "Epoch: 1/5 | Loss: 2.2297\n",
      "Epoch: 1/5 | Loss: 2.5040\n",
      "Epoch: 1/5 | Loss: 2.4643\n",
      "Epoch: 1/5 | Loss: 2.3901\n",
      "Epoch: 1/5 | Loss: 2.2570\n",
      "Epoch: 1/5 | Loss: 2.2355\n",
      "Epoch: 1/5 | Loss: 2.2579\n",
      "Epoch: 1/5 | Loss: 2.2967\n",
      "Epoch: 1/5 | Loss: 2.4555\n",
      "Epoch: 1/5 | Loss: 2.3177\n",
      "Epoch: 1/5 | Loss: 1.5607\n",
      "Epoch: 1/5 | Loss: 2.4940\n",
      "Epoch: 1/5 | Loss: 2.1987\n",
      "Epoch: 1/5 | Loss: 2.5189\n",
      "Epoch: 1/5 | Loss: 0.3675\n",
      "Epoch: 1/5 | Loss: 0.0577\n",
      "Epoch: 1/5 | Loss: 1.8671\n",
      "Epoch: 1/5 | Loss: 1.1474\n",
      "Epoch: 1/5 | Loss: 2.4790\n",
      "Epoch: 1/5 | Loss: 2.2417\n",
      "Epoch: 1/5 | Loss: 1.8935\n",
      "Epoch: 1/5 | Loss: 2.4099\n",
      "Epoch: 1/5 | Loss: 1.7572\n",
      "Epoch: 1/5 | Loss: 2.2678\n",
      "Epoch: 1/5 | Loss: 2.0458\n",
      "Epoch: 1/5 | Loss: 2.1278\n",
      "Epoch: 1/5 | Loss: 2.1824\n",
      "Epoch: 1/5 | Loss: 1.8551\n",
      "Epoch: 1/5 | Loss: 2.0211\n",
      "Epoch: 1/5 | Loss: 2.2063\n",
      "Epoch: 1/5 | Loss: 1.9829\n",
      "Epoch: 1/5 | Loss: 2.2441\n",
      "Epoch: 1/5 | Loss: 1.6959\n",
      "Epoch: 1/5 | Loss: 2.3970\n",
      "Epoch: 1/5 | Loss: 2.2493\n",
      "Epoch: 1/5 | Loss: 2.2071\n",
      "Epoch: 1/5 | Loss: 2.0440\n",
      "Epoch: 1/5 | Loss: 1.9891\n",
      "Epoch: 1/5 | Loss: 1.9724\n",
      "Epoch: 1/5 | Loss: 0.0305\n",
      "Epoch: 1/5 | Loss: 0.8910\n",
      "Epoch: 1/5 | Loss: 2.1733\n",
      "Epoch: 1/5 | Loss: 1.9285\n",
      "Epoch: 1/5 | Loss: 0.4340\n",
      "Epoch: 1/5 | Loss: 1.8539\n",
      "Epoch: 1/5 | Loss: 2.3672\n",
      "Epoch: 1/5 | Loss: 1.8290\n",
      "Epoch: 1/5 | Loss: 1.5934\n",
      "Epoch: 1/5 | Loss: 1.8998\n",
      "Epoch: 1/5 | Loss: 1.3790\n",
      "Epoch: 1/5 | Loss: 2.2075\n",
      "Epoch: 1/5 | Loss: 2.1247\n",
      "Epoch: 1/5 | Loss: 1.6532\n",
      "Epoch: 1/5 | Loss: 2.0620\n",
      "Epoch: 1/5 | Loss: 2.3373\n",
      "Epoch: 1/5 | Loss: 1.9690\n",
      "Epoch: 1/5 | Loss: 0.7657\n",
      "Epoch: 1/5 | Loss: 2.0749\n",
      "Epoch: 1/5 | Loss: 2.0358\n",
      "Epoch: 1/5 | Loss: 1.6876\n",
      "Epoch: 1/5 | Loss: 1.7646\n",
      "Epoch: 1/5 | Loss: 2.0998\n",
      "Epoch: 1/5 | Loss: 1.6670\n",
      "Epoch: 1/5 | Loss: 2.0314\n",
      "Epoch: 1/5 | Loss: 2.2105\n",
      "Epoch: 1/5 | Loss: 2.1866\n",
      "Epoch: 1/5 | Loss: 2.3086\n",
      "Epoch: 1/5 | Loss: 1.5974\n",
      "Epoch: 1/5 | Loss: 1.7433\n",
      "Epoch: 1/5 | Loss: 1.3269\n",
      "Epoch: 1/5 | Loss: 1.8124\n",
      "Epoch: 1/5 | Loss: 2.1240\n",
      "Epoch: 1/5 | Loss: 1.2950\n",
      "Epoch: 1/5 | Loss: 1.5979\n",
      "Epoch: 1/5 | Loss: 1.6665\n",
      "Epoch: 1/5 | Loss: 2.0940\n",
      "Epoch: 1/5 | Loss: 1.5826\n",
      "Epoch: 1/5 | Loss: 0.7500\n",
      "Epoch: 1/5 | Loss: 1.4663\n",
      "Epoch: 1/5 | Loss: 1.8989\n",
      "Epoch: 1/5 | Loss: 1.8730\n",
      "Epoch: 1/5 | Loss: 2.0320\n",
      "Epoch: 1/5 | Loss: 1.7576\n",
      "Epoch: 1/5 | Loss: 1.8503\n",
      "Epoch: 1/5 | Loss: 2.0736\n",
      "Epoch: 1/5 | Loss: 2.1229\n",
      "Epoch: 1/5 | Loss: 1.7458\n",
      "Epoch: 1/5 | Loss: 1.4759\n",
      "Epoch: 1/5 | Loss: 0.9384\n",
      "Epoch: 1/5 | Loss: 1.6834\n",
      "Epoch: 1/5 | Loss: 1.7379\n",
      "Epoch: 1/5 | Loss: 1.7960\n",
      "Epoch: 1/5 | Loss: 1.7632\n",
      "Epoch: 1/5 | Loss: 2.5154\n",
      "Epoch: 1/5 | Loss: 1.2996\n",
      "Epoch: 1/5 | Loss: 1.4989\n",
      "Epoch: 1/5 | Loss: 0.8601\n",
      "Epoch: 1/5 | Loss: 1.4889\n",
      "Epoch: 1/5 | Loss: 1.0369\n",
      "Epoch: 1/5 | Loss: 2.3693\n",
      "Epoch: 1/5 | Loss: 1.4436\n",
      "Epoch: 1/5 | Loss: 1.6265\n",
      "Epoch: 1/5 | Loss: 1.5196\n",
      "Epoch: 1/5 | Loss: 1.2906\n",
      "Epoch: 1/5 | Loss: 1.8796\n",
      "Epoch: 1/5 | Loss: 1.6551\n",
      "Epoch: 1/5 | Loss: 1.7438\n",
      "Epoch: 1/5 | Loss: 1.5097\n",
      "Epoch: 1/5 | Loss: 1.3776\n",
      "Epoch: 1/5 | Loss: 1.5566\n",
      "Epoch: 1/5 | Loss: 1.6079\n",
      "Epoch: 1/5 | Loss: 2.1380\n",
      "Epoch: 1/5 | Loss: 1.6651\n",
      "Epoch: 1/5 | Loss: 1.1864\n",
      "Epoch: 1/5 | Loss: 1.9542\n",
      "Epoch: 1/5 | Loss: 1.4476\n",
      "Epoch: 1/5 | Loss: 1.0058\n",
      "Epoch: 1/5 | Loss: 0.0400\n",
      "Epoch: 1/5 | Loss: 2.0037\n",
      "Epoch: 1/5 | Loss: 0.5480\n",
      "Epoch: 1/5 | Loss: 1.8995\n",
      "Epoch: 1/5 | Loss: 1.6110\n",
      "Epoch: 1/5 | Loss: 1.9860\n",
      "Epoch: 1/5 | Loss: 1.3934\n",
      "Epoch: 1/5 | Loss: 0.9201\n",
      "Epoch: 1/5 | Loss: 0.6971\n",
      "Epoch: 1/5 | Loss: 0.3731\n",
      "Epoch: 1/5 | Loss: 1.8877\n",
      "Epoch: 1/5 | Loss: 1.7277\n",
      "Epoch: 1/5 | Loss: 2.1516\n",
      "Epoch: 1/5 | Loss: 1.7581\n",
      "Epoch: 1/5 | Loss: 1.8167\n",
      "Epoch: 1/5 | Loss: 2.1090\n",
      "Epoch: 1/5 | Loss: 1.5028\n",
      "Epoch: 1/5 | Loss: 1.6092\n",
      "Epoch: 1/5 | Loss: 1.3525\n",
      "Epoch: 1/5 | Loss: 1.7554\n",
      "Epoch: 1/5 | Loss: 1.8040\n",
      "Epoch: 1/5 | Loss: 1.8597\n",
      "Epoch: 1/5 | Loss: 1.8082\n",
      "Epoch: 1/5 | Loss: 1.8889\n",
      "Epoch: 1/5 | Loss: 2.0577\n",
      "Epoch: 1/5 | Loss: 1.4843\n",
      "Epoch: 1/5 | Loss: 1.7834\n",
      "Epoch: 1/5 | Loss: 1.7378\n",
      "Epoch: 1/5 | Loss: 1.3329\n",
      "Epoch: 1/5 | Loss: 1.4036\n",
      "Epoch: 1/5 | Loss: 1.2377\n",
      "Epoch: 1/5 | Loss: 1.3766\n",
      "Epoch: 1/5 | Loss: 1.2729\n",
      "Epoch: 1/5 | Loss: 0.8313\n",
      "Epoch: 1/5 | Loss: 2.3251\n",
      "Epoch: 1/5 | Loss: 1.4119\n",
      "Epoch: 1/5 | Loss: 1.5700\n",
      "Epoch: 1/5 | Loss: 1.7647\n",
      "Epoch: 1/5 | Loss: 1.5158\n",
      "Epoch: 1/5 | Loss: 1.3171\n",
      "Epoch: 1/5 | Loss: 1.8218\n",
      "Epoch: 1/5 | Loss: 0.9226\n",
      "Epoch: 1/5 | Loss: 1.1992\n",
      "Epoch: 1/5 | Loss: 2.0275\n",
      "Epoch: 1/5 | Loss: 1.5987\n",
      "Epoch: 1/5 | Loss: 1.3564\n",
      "Epoch: 1/5 | Loss: 1.4744\n",
      "Epoch: 1/5 | Loss: 1.0345\n",
      "Epoch: 1/5 | Loss: 1.6821\n",
      "Epoch: 1/5 | Loss: 1.0036\n",
      "Epoch: 1/5 | Loss: 1.7695\n",
      "Epoch: 1/5 | Loss: 1.5802\n",
      "Epoch: 1/5 | Loss: 1.1725\n",
      "Epoch: 1/5 | Loss: 1.3886\n",
      "Epoch: 1/5 | Loss: 1.4340\n",
      "Epoch: 1/5 | Loss: 0.7675\n",
      "Epoch: 1/5 | Loss: 1.2074\n",
      "Epoch: 1/5 | Loss: 1.5285\n",
      "Epoch: 1/5 | Loss: 0.8604\n",
      "Epoch: 1/5 | Loss: 0.9374\n",
      "Epoch: 1/5 | Loss: 1.2151\n",
      "Epoch: 1/5 | Loss: 1.1514\n",
      "Epoch: 1/5 | Loss: 1.9609\n",
      "Epoch: 1/5 | Loss: 1.1831\n",
      "Epoch: 1/5 | Loss: 1.6805\n",
      "Epoch: 1/5 | Loss: 1.4445\n",
      "Epoch: 1/5 | Loss: 1.4803\n",
      "Epoch: 1/5 | Loss: 2.1368\n",
      "Epoch: 1/5 | Loss: 0.2700\n",
      "Epoch: 1/5 | Loss: 1.6701\n",
      "Epoch: 1/5 | Loss: 1.8983\n",
      "Epoch: 1/5 | Loss: 1.0260\n",
      "Epoch: 1/5 | Loss: 1.2382\n",
      "Epoch: 1/5 | Loss: 1.8885\n",
      "Epoch: 1/5 | Loss: 0.8818\n",
      "Epoch: 1/5 | Loss: 0.7013\n",
      "Epoch: 1/5 | Loss: 1.5615\n",
      "Epoch: 1/5 | Loss: 1.8284\n",
      "Epoch: 1/5 | Loss: 1.2050\n",
      "Epoch: 1/5 | Loss: 0.9481\n",
      "Epoch: 1/5 | Loss: 1.3234\n",
      "Epoch: 1/5 | Loss: 2.0723\n",
      "Epoch: 1/5 | Loss: 1.7478\n",
      "Epoch: 1/5 | Loss: 1.5345\n",
      "Epoch: 1/5 | Loss: 1.6431\n",
      "Epoch: 1/5 | Loss: 1.1682\n",
      "Epoch: 1/5 | Loss: 0.6075\n",
      "Epoch: 1/5 | Loss: 1.0065\n",
      "Epoch: 1/5 | Loss: 0.6364\n",
      "Epoch: 1/5 | Loss: 1.4473\n"
     ]
    },
    {
     "ename": "KeyboardInterrupt",
     "evalue": "",
     "output_type": "error",
     "traceback": [
      "\u001b[0;31m---------------------------------------------------------------------------\u001b[0m",
      "\u001b[0;31mKeyboardInterrupt\u001b[0m                         Traceback (most recent call last)",
      "\u001b[0;32m/tmp/ipykernel_3466359/941372745.py\u001b[0m in \u001b[0;36m<module>\u001b[0;34m\u001b[0m\n\u001b[0;32m----> 1\u001b[0;31m train_cbow(    C,\n\u001b[0m\u001b[1;32m      2\u001b[0m                \u001b[0mW\u001b[0m\u001b[0;34m,\u001b[0m\u001b[0;34m\u001b[0m\u001b[0;34m\u001b[0m\u001b[0m\n\u001b[1;32m      3\u001b[0m                \u001b[0mint_words\u001b[0m\u001b[0;34m,\u001b[0m\u001b[0;34m\u001b[0m\u001b[0;34m\u001b[0m\u001b[0m\n\u001b[1;32m      4\u001b[0m                \u001b[0mn_vocab\u001b[0m\u001b[0;34m=\u001b[0m\u001b[0mn_vocab\u001b[0m\u001b[0;34m,\u001b[0m\u001b[0;34m\u001b[0m\u001b[0;34m\u001b[0m\u001b[0m\n\u001b[1;32m      5\u001b[0m                \u001b[0mn_embed\u001b[0m\u001b[0;34m=\u001b[0m\u001b[0mn_embed\u001b[0m\u001b[0;34m,\u001b[0m\u001b[0;34m\u001b[0m\u001b[0;34m\u001b[0m\u001b[0m\n",
      "\u001b[0;32m/tmp/ipykernel_3466359/3191702258.py\u001b[0m in \u001b[0;36mtrain_cbow\u001b[0;34m(C, W, int_words, n_vocab, n_embed, learning_rate, batch_size, n_epochs, print_every)\u001b[0m\n\u001b[1;32m     49\u001b[0m             \u001b[0;31m# optimization\u001b[0m\u001b[0;34m\u001b[0m\u001b[0;34m\u001b[0m\u001b[0m\n\u001b[1;32m     50\u001b[0m             \u001b[0moptimizer\u001b[0m\u001b[0;34m.\u001b[0m\u001b[0mzero_grad\u001b[0m\u001b[0;34m(\u001b[0m\u001b[0;34m)\u001b[0m\u001b[0;34m\u001b[0m\u001b[0;34m\u001b[0m\u001b[0m\n\u001b[0;32m---> 51\u001b[0;31m             \u001b[0mloss\u001b[0m\u001b[0;34m.\u001b[0m\u001b[0mbackward\u001b[0m\u001b[0;34m(\u001b[0m\u001b[0;34m)\u001b[0m\u001b[0;34m\u001b[0m\u001b[0;34m\u001b[0m\u001b[0m\n\u001b[0m\u001b[1;32m     52\u001b[0m             \u001b[0moptimizer\u001b[0m\u001b[0;34m.\u001b[0m\u001b[0mstep\u001b[0m\u001b[0;34m(\u001b[0m\u001b[0;34m)\u001b[0m\u001b[0;34m\u001b[0m\u001b[0;34m\u001b[0m\u001b[0m\n\u001b[1;32m     53\u001b[0m \u001b[0;34m\u001b[0m\u001b[0m\n",
      "\u001b[0;32m~/anaconda3/lib/python3.9/site-packages/torch/_tensor.py\u001b[0m in \u001b[0;36mbackward\u001b[0;34m(self, gradient, retain_graph, create_graph, inputs)\u001b[0m\n\u001b[1;32m    486\u001b[0m                 \u001b[0minputs\u001b[0m\u001b[0;34m=\u001b[0m\u001b[0minputs\u001b[0m\u001b[0;34m,\u001b[0m\u001b[0;34m\u001b[0m\u001b[0;34m\u001b[0m\u001b[0m\n\u001b[1;32m    487\u001b[0m             )\n\u001b[0;32m--> 488\u001b[0;31m         torch.autograd.backward(\n\u001b[0m\u001b[1;32m    489\u001b[0m             \u001b[0mself\u001b[0m\u001b[0;34m,\u001b[0m \u001b[0mgradient\u001b[0m\u001b[0;34m,\u001b[0m \u001b[0mretain_graph\u001b[0m\u001b[0;34m,\u001b[0m \u001b[0mcreate_graph\u001b[0m\u001b[0;34m,\u001b[0m \u001b[0minputs\u001b[0m\u001b[0;34m=\u001b[0m\u001b[0minputs\u001b[0m\u001b[0;34m\u001b[0m\u001b[0;34m\u001b[0m\u001b[0m\n\u001b[1;32m    490\u001b[0m         )\n",
      "\u001b[0;32m~/anaconda3/lib/python3.9/site-packages/torch/autograd/__init__.py\u001b[0m in \u001b[0;36mbackward\u001b[0;34m(tensors, grad_tensors, retain_graph, create_graph, grad_variables, inputs)\u001b[0m\n\u001b[1;32m    195\u001b[0m     \u001b[0;31m# some Python versions print out the first line of a multi-line function\u001b[0m\u001b[0;34m\u001b[0m\u001b[0;34m\u001b[0m\u001b[0m\n\u001b[1;32m    196\u001b[0m     \u001b[0;31m# calls in the traceback and some print out the last line\u001b[0m\u001b[0;34m\u001b[0m\u001b[0;34m\u001b[0m\u001b[0m\n\u001b[0;32m--> 197\u001b[0;31m     Variable._execution_engine.run_backward(  # Calls into the C++ engine to run the backward pass\n\u001b[0m\u001b[1;32m    198\u001b[0m         \u001b[0mtensors\u001b[0m\u001b[0;34m,\u001b[0m \u001b[0mgrad_tensors_\u001b[0m\u001b[0;34m,\u001b[0m \u001b[0mretain_graph\u001b[0m\u001b[0;34m,\u001b[0m \u001b[0mcreate_graph\u001b[0m\u001b[0;34m,\u001b[0m \u001b[0minputs\u001b[0m\u001b[0;34m,\u001b[0m\u001b[0;34m\u001b[0m\u001b[0;34m\u001b[0m\u001b[0m\n\u001b[1;32m    199\u001b[0m         allow_unreachable=True, accumulate_grad=True)  # Calls into the C++ engine to run the backward pass\n",
      "\u001b[0;31mKeyboardInterrupt\u001b[0m: "
     ]
    }
   ],
   "source": [
    "train_cbow(    C,\n",
    "               W,\n",
    "               int_words,\n",
    "               n_vocab=n_vocab,\n",
    "               n_embed=n_embed,\n",
    "               learning_rate=lr,\n",
    "               batch_size=batch_size,\n",
    "               n_epochs=n_epochs,\n",
    "               print_every=100)"
   ]
  },
  {
   "cell_type": "code",
   "execution_count": null,
   "id": "eac96ed5",
   "metadata": {},
   "outputs": [],
   "source": [
    "# final embeddings is the summation of the two matrix (check lecture slides)\n",
    "embeddings = C.data.to('cpu').data.numpy()\n",
    "embeddings += W.data.to('cpu').data.numpy()"
   ]
  },
  {
   "cell_type": "markdown",
   "id": "f18d8a91",
   "metadata": {},
   "source": [
    "### Evaluation via Visualization"
   ]
  },
  {
   "cell_type": "code",
   "execution_count": null,
   "id": "88c995ad",
   "metadata": {},
   "outputs": [],
   "source": [
    "from sklearn.manifold import TSNE\n",
    "import matplotlib.pyplot as plt\n",
    "\n",
    "n_viz_words = 200\n",
    "tsne = TSNE()\n",
    "embeddings_tsne = tsne.fit_transform(embeddings[:n_viz_words, :])\n",
    "\n",
    "fig, ax = plt.subplots(figsize = (20, 20))\n",
    "for i in range(n_viz_words):\n",
    "    plt.scatter(*embeddings_tsne[i, :], color = 'red', s=40)\n",
    "    plt.annotate(i2w[i], (embeddings_tsne[i, 0], embeddings_tsne[i, 1]), alpha = 0.7)"
   ]
  },
  {
   "cell_type": "markdown",
   "id": "89d0a899",
   "metadata": {},
   "source": [
    "### Evaluation via Document Similarity"
   ]
  },
  {
   "cell_type": "code",
   "execution_count": null,
   "id": "05c9ea70",
   "metadata": {},
   "outputs": [],
   "source": [
    "def transform(query, w2i, embeddings, strategy):\n",
    "    # TODO\n",
    "    # input: query or document, vocabulary w2i\n",
    "    # input: trained word2vec embeddings\n",
    "    # input: strategy: either 'average' or 'concatenate'\n",
    "    # output: vector representation of the document query\n",
    "    w2v_query = tokenize_doc(query, lemma=use_lemmatization, remove_stopwords=remove_stopwords)\n",
    "    idx = [w2i[word] for word in w2v_query]\n",
    "    v = [embeddings[i] for i in idx]\n",
    "    \n",
    "    assert strategy in ['average', 'concatenate']\n",
    "    \n",
    "    # get vectors of each word in the query\n",
    "    \n",
    "    # sentence aggregation strategy\n",
    "    if strategy == 'average':\n",
    "        # TODO START\n",
    "        vector = [em.mean() for em in v]\n",
    "        # vector = \n",
    "        # TODO END\n",
    "    else:\n",
    "        # TODO START\n",
    "        vector = np.ravel(v)\n",
    "        # TODO END\n",
    "    \n",
    "    return vector"
   ]
  },
  {
   "cell_type": "code",
   "execution_count": null,
   "id": "a04afb72",
   "metadata": {},
   "outputs": [],
   "source": [
    "# test document similarity\n",
    "q = transform('today I am very happy', w2i, embeddings, strategy='average')\n",
    "v = transform('today I feel so fascinated', w2i, embeddings, strategy='average')\n",
    "sim = np.dot(q, v)/(np.linalg.norm(q)* np.linalg.norm(v))\n",
    "print(\"Cosine Similarity: {}\".format(sim)) # this score should be high / close to 1.0"
   ]
  },
  {
   "cell_type": "code",
   "execution_count": null,
   "id": "1383516e",
   "metadata": {},
   "outputs": [],
   "source": [
    "def evaluation(strategy):\n",
    "    df = pd.read_csv('./quora_train.csv')\n",
    "    print(\"Loaded {} pairs\".format(len(df)))\n",
    "    pairs = list(zip(df['question1'].astype(str), df['question2'].astype(str)))\n",
    "    \n",
    "    all_sims = []\n",
    "    \n",
    "    for doc1, doc2 in tqdm(pairs):\n",
    "        q = transform(doc1, w2i, embeddings, strategy=strategy)\n",
    "        v = transform(doc2, w2i, embeddings, strategy=strategy)\n",
    "        \n",
    "        diff = len(q) - len(v)\n",
    "        if diff > 0:\n",
    "            v = np.pad(v, (0, np.abs(diff)))\n",
    "        else:\n",
    "            q = np.pad(q, (0, np.abs(diff)))\n",
    "        \n",
    "        sim = np.dot(q, v)/(np.linalg.norm(q)* np.linalg.norm(v))\n",
    "        all_sims.append(sim)\n",
    "        \n",
    "    return np.mean(all_sims)"
   ]
  },
  {
   "cell_type": "code",
   "execution_count": null,
   "id": "1bf214d4",
   "metadata": {},
   "outputs": [],
   "source": [
    "avg_similarity = evaluation('average')\n",
    "print(\"Final Average Similarity using Average Strategy: {}\".format(avg_similarity))"
   ]
  },
  {
   "cell_type": "code",
   "execution_count": null,
   "id": "b507d17e",
   "metadata": {},
   "outputs": [],
   "source": [
    "avg_similarity = evaluation('concatenate')\n",
    "print(\"Final Average Similarity using Concatenation Strategy: {}\".format(avg_similarity))"
   ]
  }
 ],
 "metadata": {
  "kernelspec": {
   "display_name": "Python 3 (ipykernel)",
   "language": "python",
   "name": "python3"
  },
  "language_info": {
   "codemirror_mode": {
    "name": "ipython",
    "version": 3
   },
   "file_extension": ".py",
   "mimetype": "text/x-python",
   "name": "python",
   "nbconvert_exporter": "python",
   "pygments_lexer": "ipython3",
   "version": "3.9.13"
  },
  "widgets": {
   "application/vnd.jupyter.widget-state+json": {
    "state": {
     "0718306951c543f9ab1700229e5c3e5d": {
      "model_module": "@jupyter-widgets/controls",
      "model_module_version": "1.5.0",
      "model_name": "HTMLModel",
      "state": {
       "layout": "IPY_MODEL_9dbd4eaf2f26468a91a88fd22327460f",
       "style": "IPY_MODEL_375bd16927644612842cf2215d231b6b",
       "value": " 1/1 [00:00&lt;00:00,  1.83it/s]"
      }
     },
     "29e273c83d6d4107849fb5ac592ed40c": {
      "model_module": "@jupyter-widgets/controls",
      "model_module_version": "1.5.0",
      "model_name": "ProgressStyleModel",
      "state": {
       "description_width": ""
      }
     },
     "2e6d280046ae4371bc8e4f3519c4c142": {
      "model_module": "@jupyter-widgets/controls",
      "model_module_version": "1.5.0",
      "model_name": "DescriptionStyleModel",
      "state": {
       "description_width": ""
      }
     },
     "375bd16927644612842cf2215d231b6b": {
      "model_module": "@jupyter-widgets/controls",
      "model_module_version": "1.5.0",
      "model_name": "DescriptionStyleModel",
      "state": {
       "description_width": ""
      }
     },
     "539046ed413540b8929a07b234771d6b": {
      "model_module": "@jupyter-widgets/controls",
      "model_module_version": "1.5.0",
      "model_name": "HTMLModel",
      "state": {
       "layout": "IPY_MODEL_8d857fdcc2e3494b94923334716c0336",
       "style": "IPY_MODEL_2e6d280046ae4371bc8e4f3519c4c142",
       "value": "100%"
      }
     },
     "5b08beeb860c43328729559b1394f2d8": {
      "model_module": "@jupyter-widgets/base",
      "model_module_version": "1.2.0",
      "model_name": "LayoutModel",
      "state": {}
     },
     "7b3f683b32eb4a6791ebc0283dcd524a": {
      "model_module": "@jupyter-widgets/controls",
      "model_module_version": "1.5.0",
      "model_name": "HBoxModel",
      "state": {
       "children": [
        "IPY_MODEL_539046ed413540b8929a07b234771d6b",
        "IPY_MODEL_99e74ce0b94a497f971d09f794564e6f",
        "IPY_MODEL_0718306951c543f9ab1700229e5c3e5d"
       ],
       "layout": "IPY_MODEL_5b08beeb860c43328729559b1394f2d8"
      }
     },
     "8d857fdcc2e3494b94923334716c0336": {
      "model_module": "@jupyter-widgets/base",
      "model_module_version": "1.2.0",
      "model_name": "LayoutModel",
      "state": {}
     },
     "99e74ce0b94a497f971d09f794564e6f": {
      "model_module": "@jupyter-widgets/controls",
      "model_module_version": "1.5.0",
      "model_name": "FloatProgressModel",
      "state": {
       "bar_style": "success",
       "layout": "IPY_MODEL_cab5c9b4fd08470cb51b1bd2dbda7e23",
       "max": 1,
       "style": "IPY_MODEL_29e273c83d6d4107849fb5ac592ed40c",
       "value": 1
      }
     },
     "9dbd4eaf2f26468a91a88fd22327460f": {
      "model_module": "@jupyter-widgets/base",
      "model_module_version": "1.2.0",
      "model_name": "LayoutModel",
      "state": {}
     },
     "cab5c9b4fd08470cb51b1bd2dbda7e23": {
      "model_module": "@jupyter-widgets/base",
      "model_module_version": "1.2.0",
      "model_name": "LayoutModel",
      "state": {}
     }
    },
    "version_major": 2,
    "version_minor": 0
   }
  }
 },
 "nbformat": 4,
 "nbformat_minor": 5
}
