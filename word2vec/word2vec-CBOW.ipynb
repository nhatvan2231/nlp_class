{
 "cells": [
  {
   "cell_type": "code",
   "execution_count": 1,
   "id": "b496481c",
   "metadata": {},
   "outputs": [],
   "source": [
    "import numpy as np\n",
    "import pandas as pd\n",
    "import random \n",
    "import torch\n",
    "import regex as re\n",
    "from nltk.corpus import stopwords\n",
    "from collections import Counter\n",
    "\n",
    "from nltk.tokenize import wordpunct_tokenize\n",
    "from nltk.stem import WordNetLemmatizer\n",
    "from nltk import RegexpTokenizer \n",
    "from collections import OrderedDict\n",
    "from nltk.corpus import stopwords\n",
    "\n",
    "from torch import nn\n",
    "from torch.functional import F\n",
    "from torch import optim\n",
    "from tqdm import tqdm"
   ]
  },
  {
   "cell_type": "code",
   "execution_count": 2,
   "id": "15523422",
   "metadata": {},
   "outputs": [],
   "source": [
    "remove_stopwords = True\n",
    "use_lemmatization = True\n",
    "lemmatizer = WordNetLemmatizer()\n",
    "tokenizer = RegexpTokenizer(r\"\\w+\")\n",
    "catchedStopWords = stopwords.words('english')"
   ]
  },
  {
   "cell_type": "code",
   "execution_count": 3,
   "id": "e6cb8b00",
   "metadata": {},
   "outputs": [],
   "source": [
    "def tokenize_doc(sent,\n",
    "                 lemma=False, \n",
    "                 remove_stopwords=False):\n",
    "    \n",
    "    # a simple tokenizer with case folding and an option to use lemmatization\n",
    "    sent = sent.lower()\n",
    "    tokens = sent.split()\n",
    "    \n",
    "    if lemma:\n",
    "        tokens = [lemmatizer.lemmatize(token) for token in tokens]\n",
    "    if remove_stopwords:\n",
    "        tokens = [token for token in tokens if token not in catchedStopWords]\n",
    "    return tokens\n",
    "\n",
    "def basic_text_processing(corpus, num_words):\n",
    "    vocab = set()\n",
    "    all_tokens = []\n",
    "    \n",
    "    # tokenization\n",
    "    for doc in tqdm(corpus):\n",
    "        tokens = tokenize_doc(doc, lemma=use_lemmatization, remove_stopwords=remove_stopwords)\n",
    "        vocab.update(set(tokens))\n",
    "        all_tokens.extend(tokens)\n",
    "    print(\"Tokenization complete\")\n",
    "    # TODO START\n",
    "    # We only want to train with the top num_words MOST FREQUENT words\n",
    "    # Output a variable called ``train_tokens\" that is similar to all_tokens\n",
    "    # variable but without infrequent words\n",
    "    freq_words = Counter(all_tokens)\n",
    "    freq_words = sorted(freq_words, key=freq_words.get, reverse=True)\n",
    "    freq_words = freq_words[:num_words]\n",
    "    train_tokens = [token for token in all_tokens if token in freq_words]\n",
    "    # TODO END\n",
    "    \n",
    "    # generating vocabulary from the train_tokens\n",
    "    word_counts = Counter(train_tokens)\n",
    "    sorted_vocab = sorted(word_counts, key=word_counts.get, reverse=True) \n",
    "    i2w = {ii: word for ii, word in enumerate(sorted_vocab)}\n",
    "    w2i = {word: ii for ii, word in i2w.items()}\n",
    "    \n",
    "    return  w2i, i2w, train_tokens"
   ]
  },
  {
   "cell_type": "code",
   "execution_count": 41,
   "id": "05b360ce",
   "metadata": {},
   "outputs": [],
   "source": [
    "def get_contexts(words, idx):\n",
    "    contexts = [words[idx-2], words[idx-1], words[idx+1], words[idx+2]]\n",
    "    return contexts"
   ]
  },
  {
   "cell_type": "code",
   "execution_count": 91,
   "id": "c8a6fc24",
   "metadata": {},
   "outputs": [],
   "source": [
    "def get_batches(words, batch_size):  #, window_size = 4):\n",
    "    for i in range(0, len(words), batch_size):\n",
    "        curr = words[i:i + batch_size]   # current batch\n",
    "        batch_x, batch_y = [], []\n",
    "        #batch = []\n",
    "        for ii in range(2,len(curr)-2):\n",
    "            x = get_contexts(curr, ii)\n",
    "            y = [curr[ii]]\n",
    "            #batch.append((x,y))\n",
    "            batch_x.append(x)\n",
    "            batch_y.append(y)\n",
    "        \n",
    "        yield batch_x, batch_y"
   ]
  },
  {
   "cell_type": "code",
   "execution_count": 6,
   "id": "82365530",
   "metadata": {},
   "outputs": [
    {
     "name": "stderr",
     "output_type": "stream",
     "text": [
      "Found cached dataset cc_news (/home/nate/.cache/huggingface/datasets/cc_news/plain_text/1.0.0/ae469e556251e6e7e20a789f93803c7de19d0c4311b6854ab072fecb4e401bd6)\n"
     ]
    },
    {
     "data": {
      "application/vnd.jupyter.widget-view+json": {
       "model_id": "1cf16b82c8af471aae353f08c400bbd8",
       "version_major": 2,
       "version_minor": 0
      },
      "text/plain": [
       "  0%|          | 0/1 [00:00<?, ?it/s]"
      ]
     },
     "metadata": {},
     "output_type": "display_data"
    }
   ],
   "source": [
    "#CC-News dataset contains news articles from news sites all over the world. \n",
    "#The data is available on AWS S3 in the Common Crawl bucket at /crawl-data/CC-NEWS/. \n",
    "#This version of the dataset has been prepared using news-please - an integrated web crawler and information extractor for news.\n",
    "#It contains 708241 English language news articles published between Jan 2017 and December 2019. \n",
    "#It represents a small portion of the English language subset of the CC-News dataset.\n",
    "\n",
    "from datasets import load_dataset\n",
    "dataset = load_dataset(\"cc_news\")\n",
    "corpus = dataset['train']['text'][:150000]\n"
   ]
  },
  {
   "cell_type": "code",
   "execution_count": 7,
   "id": "54236747",
   "metadata": {},
   "outputs": [],
   "source": [
    "# all configurations go here\n",
    "# TODO\n",
    "# You will need to set configurations below to a suitable values\n",
    "# As for learning rate, the current value should work (but you are welcome to change it)\n",
    "n_vocab = 10000  # maximum size of vocab\n",
    "n_embed = 500 # size of embedding\n",
    "lr = 0.003 # learning rate\n",
    "ws = 5  # window size\n",
    "batch_size =  500 # batch size for sampling positive examples\n",
    "n_epochs =  10 #umber of training epochs\n",
    "device = 'cpu'"
   ]
  },
  {
   "cell_type": "code",
   "execution_count": 8,
   "id": "d89e2023",
   "metadata": {},
   "outputs": [
    {
     "name": "stderr",
     "output_type": "stream",
     "text": [
      "100%|██████████████████████████████████| 150000/150000 [02:39<00:00, 940.69it/s]\n"
     ]
    },
    {
     "name": "stdout",
     "output_type": "stream",
     "text": [
      "Tokenization complete\n",
      "Vocab Size: 10000\n"
     ]
    }
   ],
   "source": [
    "# this cell might take 20 minutes to run, so be patient!\n",
    "# optional: you might want to save these intermediate results to disk\n",
    "# so that next time you open Google Colab, you don't need to\n",
    "# run this again\n",
    "w2i, i2w, train_tokens = basic_text_processing(corpus, num_words=n_vocab)\n",
    "int_words = [w2i[token] for token in train_tokens]\n",
    "print(\"Vocab Size:\", len(w2i))"
   ]
  },
  {
   "cell_type": "code",
   "execution_count": 68,
   "id": "2c4d896d",
   "metadata": {},
   "outputs": [],
   "source": [
    "a = int_words[0:500]"
   ]
  },
  {
   "cell_type": "code",
   "execution_count": 69,
   "id": "dca951b5",
   "metadata": {},
   "outputs": [
    {
     "data": {
      "text/plain": [
       "[4966, 6699, 15, 137, 3837]"
      ]
     },
     "execution_count": 69,
     "metadata": {},
     "output_type": "execute_result"
    }
   ],
   "source": [
    "a[1:6]"
   ]
  },
  {
   "cell_type": "code",
   "execution_count": 92,
   "id": "08a64aea",
   "metadata": {},
   "outputs": [
    {
     "name": "stdout",
     "output_type": "stream",
     "text": [
      "[[1077, 4966, 15, 137], [4966, 6699, 137, 3837], [6699, 15, 3837, 63], [15, 137, 63, 5], [137, 3837, 5, 8281], [3837, 63, 8281, 1168], [63, 5, 1168, 9], [5, 8281, 9, 137], [8281, 1168, 137, 2578], [1168, 9, 2578, 7210], [9, 137, 7210, 951], [137, 2578, 951, 2894], [2578, 7210, 2894, 1168], [7210, 951, 1168, 121], [951, 2894, 121, 686], [2894, 1168, 686, 4], [1168, 121, 4, 998], [121, 686, 998, 1295], [686, 4, 1295, 2667], [4, 998, 2667, 951], [998, 1295, 951, 3168], [1295, 2667, 3168, 2994], [2667, 951, 2994, 4996], [951, 3168, 4996, 1288], [3168, 2994, 1288, 1295], [2994, 4996, 1295, 8881], [4996, 1288, 8881, 2210], [1288, 1295, 2210, 2210], [1295, 8881, 2210, 1295], [8881, 2210, 1295, 1150], [2210, 2210, 1150, 4996], [2210, 1295, 4996, 13], [1295, 1150, 13, 228], [1150, 4996, 228, 70], [4996, 13, 70, 370], [13, 228, 370, 459], [228, 70, 459, 7], [70, 370, 7, 30], [370, 459, 30, 87], [459, 7, 87, 25], [7, 30, 25, 112], [30, 87, 112, 932], [87, 25, 932, 1339], [25, 112, 1339, 932], [112, 932, 932, 77], [932, 1339, 77, 4671]] [[6699], [15], [137], [3837], [63], [5], [8281], [1168], [9], [137], [2578], [7210], [951], [2894], [1168], [121], [686], [4], [998], [1295], [2667], [951], [3168], [2994], [4996], [1288], [1295], [8881], [2210], [2210], [1295], [1150], [4996], [13], [228], [70], [370], [459], [7], [30], [87], [25], [112], [932], [1339], [932]]\n"
     ]
    }
   ],
   "source": [
    "\n",
    "for x, y in get_batches(a, 50):\n",
    "    print(x,y)\n",
    "    break"
   ]
  },
  {
   "cell_type": "markdown",
   "id": "8b3ced48",
   "metadata": {},
   "source": [
    "### Training"
   ]
  },
  {
   "cell_type": "code",
   "execution_count": 62,
   "id": "540d1f17",
   "metadata": {},
   "outputs": [],
   "source": [
    "def train_cbow(          C,\n",
    "                   W,\n",
    "                   int_words,\n",
    "                   n_vocab,\n",
    "                   n_embed,\n",
    "                   learning_rate,\n",
    "                   batch_size,\n",
    "                   n_epochs,\n",
    "                   print_every=100):\n",
    "    \n",
    "    optimizer = optim.Adam([C, W], lr=learning_rate)    \n",
    "    \n",
    "    C = torch.nn.init.uniform_(W, -0.10, +0.10)\n",
    "    W = torch.nn.init.uniform_(C, -0.10, +0.10)\n",
    "\n",
    "    step = 0\n",
    "    \n",
    "    for epoch in range(n_epochs):\n",
    "        for inputs, targets in get_batches(int_words, batch_size=batch_size):\n",
    "            step += 1\n",
    "            \n",
    "            contexts_indices = torch.LongTensor(inputs).to(device) # number_batches x window_size\n",
    "            labels_indices = torch.LongTensor(targets).to(device) # number_batches x label\n",
    "            \n",
    "            \n",
    "            # retrieve vectors of target words and positive context words\n",
    "            embeded_contexts = C[contexts_indices] # number_batches x window_size x embedding\n",
    "            embeded_labels = W[labels_indices] # number_batches x label x embedding\n",
    "            yield contexts_indices, labels_indices, embeded_contexts, embeded_labels\n",
    "            \n",
    "            b_size, embed_size = embeded_contexts.shape\n",
    "               \n",
    "            \n",
    "            #print(embeded_targets.shape)\n",
    "            #print(embeded_pos_contexts.shape)\n",
    "            #print(embed_neg_contexts.shape)\n",
    "            # TODO START\n",
    "            # calculating the final loss and output it to ``loss\" variable\n",
    "            embeded_contexts = embeded_contexts.view(b_size,embed_size,1)\n",
    "            \n",
    "            pos_loss = torch.bmm(embeded_pos_contexts, embeded_targets).sigmoid().log().squeeze()     \n",
    "            \n",
    "            loss = -(pos_loss + neg_loss).mean()\n",
    "            # loss = \n",
    "            # TODO END\n",
    "            \n",
    "            \n",
    "            # optimization\n",
    "            optimizer.zero_grad()\n",
    "            loss.backward()\n",
    "            optimizer.step()\n",
    "            \n",
    "            if (step % print_every) == 0:\n",
    "                print(\"Epoch: {}/{} | Loss: {:.4f}\".format(epoch+1, n_epochs, loss.item()))\n"
   ]
  },
  {
   "cell_type": "code",
   "execution_count": 51,
   "id": "4747672d",
   "metadata": {},
   "outputs": [],
   "source": [
    "# initialization of W and C weight matrix\n",
    "C = torch.nn.Parameter(torch.zeros((n_vocab, n_embed), dtype=torch.float32))\n",
    "W = torch.nn.Parameter(torch.zeros((n_vocab, n_embed), dtype=torch.float32))"
   ]
  },
  {
   "cell_type": "code",
   "execution_count": 108,
   "id": "fb795023",
   "metadata": {
    "scrolled": true
   },
   "outputs": [],
   "source": [
    "a,b,c,d = train_cbow(    C,\n",
    "               W,\n",
    "               int_words,\n",
    "               n_vocab=n_vocab,\n",
    "               n_embed=n_embed,\n",
    "               learning_rate=lr,\n",
    "               batch_size=batch_size,\n",
    "               n_epochs=n_epochs,\n",
    "               print_every=100)"
   ]
  },
  {
   "cell_type": "code",
   "execution_count": 122,
   "id": "bf7b1f0c",
   "metadata": {},
   "outputs": [
    {
     "data": {
      "text/plain": [
       "torch.Size([1, 500])"
      ]
     },
     "execution_count": 122,
     "metadata": {},
     "output_type": "execute_result"
    }
   ],
   "source": [
    "d[0].shape"
   ]
  },
  {
   "cell_type": "code",
   "execution_count": 105,
   "id": "e6c3135b",
   "metadata": {},
   "outputs": [
    {
     "data": {
      "text/plain": [
       "tensor([[[0., 0., 0.,  ..., 0., 0., 0.]],\n",
       "\n",
       "        [[0., 0., 0.,  ..., 0., 0., 0.]],\n",
       "\n",
       "        [[0., 0., 0.,  ..., 0., 0., 0.]],\n",
       "\n",
       "        ...,\n",
       "\n",
       "        [[0., 0., 0.,  ..., 0., 0., 0.]],\n",
       "\n",
       "        [[0., 0., 0.,  ..., 0., 0., 0.]],\n",
       "\n",
       "        [[0., 0., 0.,  ..., 0., 0., 0.]]], grad_fn=<IndexBackward0>)"
      ]
     },
     "execution_count": 105,
     "metadata": {},
     "output_type": "execute_result"
    }
   ],
   "source": [
    "W[b]"
   ]
  },
  {
   "cell_type": "code",
   "execution_count": null,
   "id": "eac96ed5",
   "metadata": {},
   "outputs": [],
   "source": [
    "# final embeddings is the summation of the two matrix (check lecture slides)\n",
    "embeddings = W.data.to('cpu').data.numpy()\n",
    "embeddings += C.data.to('cpu').data.numpy()"
   ]
  },
  {
   "cell_type": "markdown",
   "id": "f18d8a91",
   "metadata": {},
   "source": [
    "### Evaluation via Visualization"
   ]
  },
  {
   "cell_type": "code",
   "execution_count": null,
   "id": "88c995ad",
   "metadata": {},
   "outputs": [],
   "source": [
    "from sklearn.manifold import TSNE\n",
    "import matplotlib.pyplot as plt\n",
    "\n",
    "n_viz_words = 100\n",
    "tsne = TSNE()\n",
    "embeddings_tsne = tsne.fit_transform(embeddings[:n_viz_words, :])\n",
    "\n",
    "fig, ax = plt.subplots(figsize = (10, 10))\n",
    "for i in range(n_viz_words):\n",
    "    plt.scatter(*embeddings_tsne[i, :], color = 'red', s=40)\n",
    "    plt.annotate(i2w[i], (embeddings_tsne[i, 0], embeddings_tsne[i, 1]), alpha = 0.7)"
   ]
  },
  {
   "cell_type": "markdown",
   "id": "89d0a899",
   "metadata": {},
   "source": [
    "### Evaluation via Document Similarity"
   ]
  },
  {
   "cell_type": "code",
   "execution_count": null,
   "id": "05c9ea70",
   "metadata": {},
   "outputs": [],
   "source": [
    "def transform(query, w2i, embeddings, strategy):\n",
    "    # TODO\n",
    "    # input: query or document, vocabulary w2i\n",
    "    # input: trained word2vec embeddings\n",
    "    # input: strategy: either 'average' or 'concatenate'\n",
    "    # output: vector representation of the document query\n",
    "    w2v_query = tokenize_doc(query, lemma=use_lemmatization, remove_stopwords=remove_stopwords)\n",
    "    idx = [w2i[word] for word in w2v_query]\n",
    "    v = [embeddings[i] for i in idx]\n",
    "    \n",
    "    assert strategy in ['average', 'concatenate']\n",
    "    \n",
    "    # get vectors of each word in the query\n",
    "    \n",
    "    # sentence aggregation strategy\n",
    "    if strategy == 'average':\n",
    "        # TODO START\n",
    "        vector = [em.mean() for em in v]\n",
    "        # vector = \n",
    "        # TODO END\n",
    "    else:\n",
    "        # TODO START\n",
    "        vector = np.ravel(v)\n",
    "        # TODO END\n",
    "    \n",
    "    return vector"
   ]
  },
  {
   "cell_type": "code",
   "execution_count": null,
   "id": "a04afb72",
   "metadata": {},
   "outputs": [],
   "source": [
    "# test document similarity\n",
    "q = transform('today I am very happy', w2i, embeddings, strategy='average')\n",
    "v = transform('today I feel so fascinated', w2i, embeddings, strategy='average')\n",
    "sim = np.dot(q, v)/(np.linalg.norm(q)* np.linalg.norm(v))\n",
    "print(\"Cosine Similarity: {}\".format(sim)) # this score should be high / close to 1.0"
   ]
  },
  {
   "cell_type": "code",
   "execution_count": null,
   "id": "1383516e",
   "metadata": {},
   "outputs": [],
   "source": [
    "def evaluation(strategy):\n",
    "    df = pd.read_csv('./quora_train.csv')\n",
    "    print(\"Loaded {} pairs\".format(len(df)))\n",
    "    pairs = list(zip(df['question1'].astype(str), df['question2'].astype(str)))\n",
    "    \n",
    "    all_sims = []\n",
    "    \n",
    "    for doc1, doc2 in tqdm(pairs):\n",
    "        q = transform(doc1, w2i, embeddings, strategy=strategy)\n",
    "        v = transform(doc2, w2i, embeddings, strategy=strategy)\n",
    "        \n",
    "        diff = len(q) - len(v)\n",
    "        if diff > 0:\n",
    "            v = np.pad(v, (0, np.abs(diff)))\n",
    "        else:\n",
    "            q = np.pad(q, (0, np.abs(diff)))\n",
    "        \n",
    "        sim = np.dot(q, v)/(np.linalg.norm(q)* np.linalg.norm(v))\n",
    "        all_sims.append(sim)\n",
    "        \n",
    "    return np.mean(all_sims)"
   ]
  },
  {
   "cell_type": "code",
   "execution_count": null,
   "id": "1bf214d4",
   "metadata": {},
   "outputs": [],
   "source": [
    "avg_similarity = evaluation('average')\n",
    "print(\"Final Average Similarity using Average Strategy: {}\".format(avg_similarity))"
   ]
  },
  {
   "cell_type": "code",
   "execution_count": null,
   "id": "b507d17e",
   "metadata": {},
   "outputs": [],
   "source": [
    "avg_similarity = evaluation('concatenate')\n",
    "print(\"Final Average Similarity using Concatenation Strategy: {}\".format(avg_similarity))"
   ]
  }
 ],
 "metadata": {
  "kernelspec": {
   "display_name": "Python 3 (ipykernel)",
   "language": "python",
   "name": "python3"
  },
  "language_info": {
   "codemirror_mode": {
    "name": "ipython",
    "version": 3
   },
   "file_extension": ".py",
   "mimetype": "text/x-python",
   "name": "python",
   "nbconvert_exporter": "python",
   "pygments_lexer": "ipython3",
   "version": "3.9.13"
  },
  "widgets": {
   "application/vnd.jupyter.widget-state+json": {
    "state": {
     "0718306951c543f9ab1700229e5c3e5d": {
      "model_module": "@jupyter-widgets/controls",
      "model_module_version": "1.5.0",
      "model_name": "HTMLModel",
      "state": {
       "layout": "IPY_MODEL_9dbd4eaf2f26468a91a88fd22327460f",
       "style": "IPY_MODEL_375bd16927644612842cf2215d231b6b",
       "value": " 1/1 [00:00&lt;00:00,  1.83it/s]"
      }
     },
     "29e273c83d6d4107849fb5ac592ed40c": {
      "model_module": "@jupyter-widgets/controls",
      "model_module_version": "1.5.0",
      "model_name": "ProgressStyleModel",
      "state": {
       "description_width": ""
      }
     },
     "2e6d280046ae4371bc8e4f3519c4c142": {
      "model_module": "@jupyter-widgets/controls",
      "model_module_version": "1.5.0",
      "model_name": "DescriptionStyleModel",
      "state": {
       "description_width": ""
      }
     },
     "375bd16927644612842cf2215d231b6b": {
      "model_module": "@jupyter-widgets/controls",
      "model_module_version": "1.5.0",
      "model_name": "DescriptionStyleModel",
      "state": {
       "description_width": ""
      }
     },
     "539046ed413540b8929a07b234771d6b": {
      "model_module": "@jupyter-widgets/controls",
      "model_module_version": "1.5.0",
      "model_name": "HTMLModel",
      "state": {
       "layout": "IPY_MODEL_8d857fdcc2e3494b94923334716c0336",
       "style": "IPY_MODEL_2e6d280046ae4371bc8e4f3519c4c142",
       "value": "100%"
      }
     },
     "5b08beeb860c43328729559b1394f2d8": {
      "model_module": "@jupyter-widgets/base",
      "model_module_version": "1.2.0",
      "model_name": "LayoutModel",
      "state": {}
     },
     "7b3f683b32eb4a6791ebc0283dcd524a": {
      "model_module": "@jupyter-widgets/controls",
      "model_module_version": "1.5.0",
      "model_name": "HBoxModel",
      "state": {
       "children": [
        "IPY_MODEL_539046ed413540b8929a07b234771d6b",
        "IPY_MODEL_99e74ce0b94a497f971d09f794564e6f",
        "IPY_MODEL_0718306951c543f9ab1700229e5c3e5d"
       ],
       "layout": "IPY_MODEL_5b08beeb860c43328729559b1394f2d8"
      }
     },
     "8d857fdcc2e3494b94923334716c0336": {
      "model_module": "@jupyter-widgets/base",
      "model_module_version": "1.2.0",
      "model_name": "LayoutModel",
      "state": {}
     },
     "99e74ce0b94a497f971d09f794564e6f": {
      "model_module": "@jupyter-widgets/controls",
      "model_module_version": "1.5.0",
      "model_name": "FloatProgressModel",
      "state": {
       "bar_style": "success",
       "layout": "IPY_MODEL_cab5c9b4fd08470cb51b1bd2dbda7e23",
       "max": 1,
       "style": "IPY_MODEL_29e273c83d6d4107849fb5ac592ed40c",
       "value": 1
      }
     },
     "9dbd4eaf2f26468a91a88fd22327460f": {
      "model_module": "@jupyter-widgets/base",
      "model_module_version": "1.2.0",
      "model_name": "LayoutModel",
      "state": {}
     },
     "cab5c9b4fd08470cb51b1bd2dbda7e23": {
      "model_module": "@jupyter-widgets/base",
      "model_module_version": "1.2.0",
      "model_name": "LayoutModel",
      "state": {}
     }
    },
    "version_major": 2,
    "version_minor": 0
   }
  }
 },
 "nbformat": 4,
 "nbformat_minor": 5
}
