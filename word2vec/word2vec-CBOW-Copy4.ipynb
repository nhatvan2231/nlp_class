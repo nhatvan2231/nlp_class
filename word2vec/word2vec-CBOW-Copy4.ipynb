{
 "cells": [
  {
   "cell_type": "code",
   "execution_count": 17,
   "id": "b496481c",
   "metadata": {},
   "outputs": [],
   "source": [
    "import numpy as np\n",
    "import pandas as pd\n",
    "import random \n",
    "import torch\n",
    "import regex as re\n",
    "from nltk.corpus import stopwords\n",
    "from collections import Counter\n",
    "\n",
    "from nltk.tokenize import wordpunct_tokenize\n",
    "from nltk.stem import WordNetLemmatizer\n",
    "from nltk import RegexpTokenizer \n",
    "from collections import OrderedDict\n",
    "from nltk.corpus import stopwords\n",
    "\n",
    "from torch import nn\n",
    "from torch.functional import F\n",
    "from torch import optim\n",
    "from tqdm import tqdm\n",
    "\n",
    "import time"
   ]
  },
  {
   "cell_type": "code",
   "execution_count": 18,
   "id": "15523422",
   "metadata": {},
   "outputs": [],
   "source": [
    "remove_stopwords = True\n",
    "use_lemmatization = True\n",
    "lemmatizer = WordNetLemmatizer()\n",
    "tokenizer = RegexpTokenizer(r\"\\w+\")\n",
    "catchedStopWords = stopwords.words('english')"
   ]
  },
  {
   "cell_type": "code",
   "execution_count": 19,
   "id": "e6cb8b00",
   "metadata": {},
   "outputs": [],
   "source": [
    "def tokenize_doc(sent,\n",
    "                 lemma=False, \n",
    "                 remove_stopwords=False):\n",
    "    \n",
    "    # a simple tokenizer with case folding and an option to use lemmatization\n",
    "    sent = sent.lower()\n",
    "    tokens = sent.split()\n",
    "    tokens = [*Counter(tokens).keys()]\n",
    "    \n",
    "    if lemma:\n",
    "        tokens = [lemmatizer.lemmatize(token) for token in tokens]\n",
    "    if remove_stopwords:\n",
    "        tokens = [token for token in tokens if token not in catchedStopWords]\n",
    "    return tokens\n",
    "\n",
    "def basic_text_processing(corpus, num_words):\n",
    "    vocab = set()\n",
    "    all_tokens = []\n",
    "    \n",
    "    # tokenization\n",
    "    for doc in tqdm(corpus):\n",
    "        tokens = tokenize_doc(doc, lemma=use_lemmatization, remove_stopwords=remove_stopwords)\n",
    "        vocab.update(set(tokens))\n",
    "        all_tokens.extend(tokens)\n",
    "    print(\"Tokenization complete\")\n",
    "\n",
    "    freq_words = dict(Counter(all_tokens).most_common(num_words))\n",
    "    train_tokens = [token for token in all_tokens if token in freq_words]\n",
    "    \n",
    "    # generating vocabulary from the train_tokens\n",
    "    word_counts = Counter(train_tokens)\n",
    "    sorted_vocab = sorted(word_counts, key=word_counts.get, reverse=True) \n",
    "    i2w = {ii: word for ii, word in enumerate(sorted_vocab)}\n",
    "    w2i = {word: ii for ii, word in i2w.items()}\n",
    "    \n",
    "    return  w2i, i2w, train_tokens"
   ]
  },
  {
   "cell_type": "code",
   "execution_count": 20,
   "id": "05b360ce",
   "metadata": {},
   "outputs": [],
   "source": [
    "def get_contexts(words, idx):\n",
    "    contexts = [words[idx-2], words[idx-1], words[idx+1], words[idx+2]]\n",
    "    return contexts"
   ]
  },
  {
   "cell_type": "code",
   "execution_count": 21,
   "id": "c8a6fc24",
   "metadata": {},
   "outputs": [],
   "source": [
    "def get_batches(words, batch_size):  #, window_size = 4):\n",
    "    for i in range(0, len(words), batch_size):\n",
    "        curr = words[i:i + batch_size]   # current batch\n",
    "        batch_x, batch_y = [], []\n",
    "        #batch = []\n",
    "        for ii in range(2,len(curr)-2):\n",
    "            x = get_contexts(curr, ii)\n",
    "            y = curr[ii]\n",
    "            #batch.append((x,y))\n",
    "            batch_x.append(x)\n",
    "            batch_y.append(y)\n",
    "        \n",
    "        yield batch_x, batch_y\n",
    "        #yield batch"
   ]
  },
  {
   "cell_type": "code",
   "execution_count": 22,
   "id": "82365530",
   "metadata": {},
   "outputs": [
    {
     "name": "stderr",
     "output_type": "stream",
     "text": [
      "Found cached dataset cc_news (/home/nhatvan1561/.cache/huggingface/datasets/cc_news/plain_text/1.0.0/ae469e556251e6e7e20a789f93803c7de19d0c4311b6854ab072fecb4e401bd6)\n"
     ]
    },
    {
     "data": {
      "application/vnd.jupyter.widget-view+json": {
       "model_id": "a619487b860b4f188c69ecc48d8c2f9c",
       "version_major": 2,
       "version_minor": 0
      },
      "text/plain": [
       "  0%|          | 0/1 [00:00<?, ?it/s]"
      ]
     },
     "metadata": {},
     "output_type": "display_data"
    }
   ],
   "source": [
    "#CC-e woNews dataset contains news articles from news sites all over thrld. \n",
    "#The data is available on AWS S3 in the Common Crawl bucket at /crawl-data/CC-NEWS/. \n",
    "#This version of the dataset has been prepared using news-please - an integrated web crawler and information extractor for news.\n",
    "#It contains 708241 English language news articles published between Jan 2017 and December 2019. \n",
    "#It represents a small portion of the English language subset of the CC-News dataset.\n",
    "\n",
    "from datasets import load_dataset\n",
    "dataset = load_dataset(\"cc_news\")\n",
    "corpus = dataset['train']['text'][:150000]\n"
   ]
  },
  {
   "cell_type": "code",
   "execution_count": 23,
   "id": "54236747",
   "metadata": {},
   "outputs": [],
   "source": [
    "# all configurations go here\n",
    "n_vocab = 10000  # maximum size of vocab\n",
    "n_embed = 50 # size of embedding\n",
    "lr = 0.0005 # learning rate\n",
    "n_negative_samples = 5 # number negative examples per positive example\n",
    "ws = 5  # window size\n",
    "batch_size =  50 # batch size for sampling positive examples\n",
    "n_epochs =  5 #umber of training epochs\n",
    "device = 'cpu'"
   ]
  },
  {
   "cell_type": "code",
   "execution_count": 24,
   "id": "d89e2023",
   "metadata": {},
   "outputs": [
    {
     "name": "stderr",
     "output_type": "stream",
     "text": [
      "100%|█████████████████████████████████| 150000/150000 [02:02<00:00, 1222.57it/s]\n"
     ]
    },
    {
     "name": "stdout",
     "output_type": "stream",
     "text": [
      "Tokenization complete\n",
      "Vocab Size: 10000\n"
     ]
    }
   ],
   "source": [
    "w2i, i2w, train_tokens = basic_text_processing(corpus, num_words=n_vocab)\n",
    "int_words = [w2i[token] for token in train_tokens]\n",
    "print(\"Vocab Size:\", len(w2i))"
   ]
  },
  {
   "cell_type": "markdown",
   "id": "8b3ced48",
   "metadata": {},
   "source": [
    "### Training"
   ]
  },
  {
   "cell_type": "code",
   "execution_count": 9,
   "id": "540d1f17",
   "metadata": {},
   "outputs": [],
   "source": [
    "def train_cbow(    w1,\n",
    "                   w2,\n",
    "                   int_words,\n",
    "                   n_vocab,\n",
    "                   n_embed,\n",
    "                   learning_rate,\n",
    "                   n_negative_samples,\n",
    "                   batch_size,\n",
    "                   n_epochs,\n",
    "                   print_every=100):\n",
    "    \n",
    "    optimizer = optim.Adam([w1, w2], lr=learning_rate)    \n",
    "    w1 = torch.nn.init.uniform_(w1, -0.10, +0.10)\n",
    "    w2 = torch.nn.init.uniform_(w2, -0.10, +0.10)\n",
    "\n",
    "    step = 0\n",
    "    \n",
    "    for epoch in range(n_epochs):\n",
    "        for inputs, targets in get_batches(int_words, batch_size=batch_size):\n",
    "            step += 1\n",
    "\n",
    "            contexts_indices = torch.LongTensor(inputs).to(device) # number_batches x window_size\n",
    "            targets_indices = torch.LongTensor(targets).to(device) # number_batches x label\n",
    "            b_size = contexts_indices.shape[0]\n",
    "            \n",
    "            # feedward\n",
    "            c_embed = w1[contexts_indices].mean(1).view(b_size, n_embed,1)\n",
    "            \n",
    "            # retrieve vectors of negative examples and negative targets words\n",
    "            noise_dist = torch.ones((b_size,n_vocab))\n",
    "            noise_words = torch.multinomial(noise_dist, \n",
    "                                            num_samples=n_negative_samples, \n",
    "                                            replacement=True)\n",
    "            noise_words = noise_words.to(device)\n",
    "            nt_embed = w2[noise_words]\n",
    "            \n",
    "            # retrieve vectors of targets words and positive context words\n",
    "            pt_embed = w2[targets_indices].view([b_size, 1, n_embed])\n",
    "            neg_loss = torch.bmm(nt_embed.neg(),c_embed).sigmoid().log().sum(1).squeeze()\n",
    "            pos_loss = torch.bmm(pt_embed,c_embed).sigmoid().log().squeeze()\n",
    "\n",
    "            # Negative sampling loss\n",
    "            loss = (pos_loss + neg_loss).neg().mean()\n",
    "            # optimization\n",
    "            optimizer.zero_grad()\n",
    "            loss.backward()\n",
    "            optimizer.step()\n",
    "            if (step % print_every) == 0:\n",
    "                print(\"Epoch: {}/{} | Loss: {:.4f}\".format(epoch+1, n_epochs, loss.item()))\n",
    "\n",
    "                \n",
    "\n"
   ]
  },
  {
   "cell_type": "code",
   "execution_count": 27,
   "id": "4747672d",
   "metadata": {},
   "outputs": [],
   "source": [
    "# initialization of W and C weight matrix\n",
    "w1 = torch.nn.Parameter(torch.zeros((n_vocab, n_embed), dtype=torch.float32))\n",
    "w2 = torch.nn.Parameter(torch.zeros((n_vocab, n_embed), dtype=torch.float32))"
   ]
  },
  {
   "cell_type": "code",
   "execution_count": 158,
   "id": "fb795023",
   "metadata": {
    "scrolled": true
   },
   "outputs": [
    {
     "name": "stdout",
     "output_type": "stream",
     "text": [
      "Epoch: 1/5 | Loss: 2.1561\n",
      "Epoch: 1/5 | Loss: 2.0632\n",
      "Epoch: 1/5 | Loss: 2.0341\n",
      "Epoch: 1/5 | Loss: 2.3297\n",
      "Epoch: 1/5 | Loss: 1.9913\n",
      "Epoch: 1/5 | Loss: 1.4548\n",
      "Epoch: 1/5 | Loss: 2.1695\n",
      "Epoch: 1/5 | Loss: 1.9682\n",
      "Epoch: 1/5 | Loss: 1.3937\n",
      "Epoch: 1/5 | Loss: 2.1737\n",
      "Epoch: 1/5 | Loss: 1.9278\n",
      "Epoch: 1/5 | Loss: 2.0779\n",
      "Epoch: 1/5 | Loss: 2.1182\n",
      "Epoch: 1/5 | Loss: 2.0860\n",
      "Epoch: 1/5 | Loss: 1.7078\n",
      "Epoch: 1/5 | Loss: 1.8256\n",
      "Epoch: 1/5 | Loss: 1.7015\n",
      "Epoch: 1/5 | Loss: 1.8982\n",
      "Epoch: 1/5 | Loss: 2.0030\n",
      "Epoch: 1/5 | Loss: 2.2102\n",
      "Epoch: 1/5 | Loss: 1.8746\n",
      "Epoch: 1/5 | Loss: 1.8713\n",
      "Epoch: 1/5 | Loss: 1.7386\n",
      "Epoch: 1/5 | Loss: 1.1607\n",
      "Epoch: 1/5 | Loss: 1.2169\n",
      "Epoch: 1/5 | Loss: 1.6159\n",
      "Epoch: 1/5 | Loss: 1.7637\n",
      "Epoch: 1/5 | Loss: 2.1385\n",
      "Epoch: 1/5 | Loss: 1.4732\n",
      "Epoch: 1/5 | Loss: 2.0113\n",
      "Epoch: 1/5 | Loss: 2.0150\n",
      "Epoch: 1/5 | Loss: 1.3606\n",
      "Epoch: 1/5 | Loss: 2.1799\n",
      "Epoch: 1/5 | Loss: 1.6042\n",
      "Epoch: 1/5 | Loss: 1.7937\n",
      "Epoch: 1/5 | Loss: 1.9401\n",
      "Epoch: 2/5 | Loss: 1.6467\n",
      "Epoch: 2/5 | Loss: 0.7614\n",
      "Epoch: 2/5 | Loss: 1.9903\n",
      "Epoch: 2/5 | Loss: 1.6211\n",
      "Epoch: 2/5 | Loss: 2.0053\n",
      "Epoch: 2/5 | Loss: 1.3908\n",
      "Epoch: 2/5 | Loss: 1.5652\n",
      "Epoch: 2/5 | Loss: 1.9385\n",
      "Epoch: 2/5 | Loss: 1.6277\n",
      "Epoch: 2/5 | Loss: 1.6848\n",
      "Epoch: 2/5 | Loss: 1.6727\n",
      "Epoch: 2/5 | Loss: 1.7977\n",
      "Epoch: 2/5 | Loss: 1.6826\n",
      "Epoch: 2/5 | Loss: 2.0998\n",
      "Epoch: 2/5 | Loss: 1.6879\n",
      "Epoch: 2/5 | Loss: 2.2180\n",
      "Epoch: 2/5 | Loss: 1.3155\n",
      "Epoch: 2/5 | Loss: 1.7536\n",
      "Epoch: 2/5 | Loss: 1.7593\n",
      "Epoch: 2/5 | Loss: 2.0417\n",
      "Epoch: 2/5 | Loss: 1.2702\n",
      "Epoch: 2/5 | Loss: 1.5941\n",
      "Epoch: 2/5 | Loss: 1.8849\n",
      "Epoch: 2/5 | Loss: 1.5828\n",
      "Epoch: 2/5 | Loss: 0.9116\n",
      "Epoch: 2/5 | Loss: 1.6049\n",
      "Epoch: 2/5 | Loss: 0.7865\n",
      "Epoch: 2/5 | Loss: 1.6618\n",
      "Epoch: 2/5 | Loss: 2.0883\n",
      "Epoch: 2/5 | Loss: 1.8212\n",
      "Epoch: 2/5 | Loss: 1.4704\n",
      "Epoch: 2/5 | Loss: 2.3415\n",
      "Epoch: 2/5 | Loss: 1.4861\n",
      "Epoch: 2/5 | Loss: 1.4732\n",
      "Epoch: 2/5 | Loss: 1.0371\n",
      "Epoch: 2/5 | Loss: 2.0592\n",
      "Epoch: 2/5 | Loss: 1.7417\n",
      "Epoch: 3/5 | Loss: 1.3447\n",
      "Epoch: 3/5 | Loss: 1.3846\n",
      "Epoch: 3/5 | Loss: 1.3841\n",
      "Epoch: 3/5 | Loss: 1.8896\n",
      "Epoch: 3/5 | Loss: 1.6487\n",
      "Epoch: 3/5 | Loss: 1.5476\n",
      "Epoch: 3/5 | Loss: 1.3434\n",
      "Epoch: 3/5 | Loss: 1.4020\n",
      "Epoch: 3/5 | Loss: 1.8909\n",
      "Epoch: 3/5 | Loss: 1.8074\n",
      "Epoch: 3/5 | Loss: 1.5934\n",
      "Epoch: 3/5 | Loss: 1.8967\n",
      "Epoch: 3/5 | Loss: 1.4173\n",
      "Epoch: 3/5 | Loss: 1.6137\n",
      "Epoch: 3/5 | Loss: 1.1810\n",
      "Epoch: 3/5 | Loss: 1.8043\n",
      "Epoch: 3/5 | Loss: 1.6417\n",
      "Epoch: 3/5 | Loss: 1.3622\n",
      "Epoch: 3/5 | Loss: 2.1928\n",
      "Epoch: 3/5 | Loss: 1.8838\n",
      "Epoch: 3/5 | Loss: 2.1754\n",
      "Epoch: 3/5 | Loss: 1.4832\n",
      "Epoch: 3/5 | Loss: 1.6253\n",
      "Epoch: 3/5 | Loss: 2.1214\n",
      "Epoch: 3/5 | Loss: 1.4944\n",
      "Epoch: 3/5 | Loss: 1.4009\n",
      "Epoch: 3/5 | Loss: 1.8921\n",
      "Epoch: 3/5 | Loss: 2.3208\n",
      "Epoch: 3/5 | Loss: 1.3302\n",
      "Epoch: 3/5 | Loss: 2.1065\n",
      "Epoch: 3/5 | Loss: 0.7535\n",
      "Epoch: 3/5 | Loss: 1.5224\n",
      "Epoch: 3/5 | Loss: 2.0347\n",
      "Epoch: 3/5 | Loss: 1.4629\n",
      "Epoch: 3/5 | Loss: 1.6294\n",
      "Epoch: 3/5 | Loss: 1.8237\n",
      "Epoch: 4/5 | Loss: 1.2065\n",
      "Epoch: 4/5 | Loss: 1.7142\n",
      "Epoch: 4/5 | Loss: 1.4107\n",
      "Epoch: 4/5 | Loss: 1.5548\n",
      "Epoch: 4/5 | Loss: 1.5789\n",
      "Epoch: 4/5 | Loss: 2.1375\n",
      "Epoch: 4/5 | Loss: 0.5164\n",
      "Epoch: 4/5 | Loss: 1.7397\n",
      "Epoch: 4/5 | Loss: 2.0037\n",
      "Epoch: 4/5 | Loss: 1.5899\n",
      "Epoch: 4/5 | Loss: 1.6282\n",
      "Epoch: 4/5 | Loss: 1.6141\n",
      "Epoch: 4/5 | Loss: 1.9696\n",
      "Epoch: 4/5 | Loss: 1.5583\n",
      "Epoch: 4/5 | Loss: 2.0719\n",
      "Epoch: 4/5 | Loss: 1.6388\n",
      "Epoch: 4/5 | Loss: 1.2687\n",
      "Epoch: 4/5 | Loss: 1.8495\n",
      "Epoch: 4/5 | Loss: 1.2120\n",
      "Epoch: 4/5 | Loss: 1.6788\n",
      "Epoch: 4/5 | Loss: 1.4065\n",
      "Epoch: 4/5 | Loss: 1.5438\n",
      "Epoch: 4/5 | Loss: 1.6519\n",
      "Epoch: 4/5 | Loss: 1.4168\n",
      "Epoch: 4/5 | Loss: 1.8144\n",
      "Epoch: 4/5 | Loss: 1.4185\n",
      "Epoch: 4/5 | Loss: 1.1330\n",
      "Epoch: 4/5 | Loss: 0.3728\n",
      "Epoch: 4/5 | Loss: 2.1339\n",
      "Epoch: 4/5 | Loss: 2.0033\n",
      "Epoch: 4/5 | Loss: 1.3461\n",
      "Epoch: 4/5 | Loss: 1.4781\n",
      "Epoch: 4/5 | Loss: 1.5305\n",
      "Epoch: 4/5 | Loss: 1.6856\n",
      "Epoch: 4/5 | Loss: 1.8289\n",
      "Epoch: 4/5 | Loss: 1.2608\n",
      "Epoch: 4/5 | Loss: 1.6361\n",
      "Epoch: 5/5 | Loss: 1.8443\n",
      "Epoch: 5/5 | Loss: 1.7134\n",
      "Epoch: 5/5 | Loss: 1.4259\n",
      "Epoch: 5/5 | Loss: 1.6817\n",
      "Epoch: 5/5 | Loss: 1.6370\n",
      "Epoch: 5/5 | Loss: 1.3809\n",
      "Epoch: 5/5 | Loss: 1.9274\n",
      "Epoch: 5/5 | Loss: 1.1487\n",
      "Epoch: 5/5 | Loss: 1.7854\n",
      "Epoch: 5/5 | Loss: 1.9134\n",
      "Epoch: 5/5 | Loss: 2.1644\n",
      "Epoch: 5/5 | Loss: 1.5970\n",
      "Epoch: 5/5 | Loss: 1.4359\n",
      "Epoch: 5/5 | Loss: 1.7269\n",
      "Epoch: 5/5 | Loss: 1.5187\n",
      "Epoch: 5/5 | Loss: 1.4449\n",
      "Epoch: 5/5 | Loss: 1.7707\n",
      "Epoch: 5/5 | Loss: 1.8796\n",
      "Epoch: 5/5 | Loss: 1.5640\n",
      "Epoch: 5/5 | Loss: 1.5537\n",
      "Epoch: 5/5 | Loss: 0.5881\n",
      "Epoch: 5/5 | Loss: 1.9098\n",
      "Epoch: 5/5 | Loss: 1.2810\n",
      "Epoch: 5/5 | Loss: 1.3475\n",
      "Epoch: 5/5 | Loss: 1.8435\n",
      "Epoch: 5/5 | Loss: 1.0956\n",
      "Epoch: 5/5 | Loss: 0.7933\n",
      "Epoch: 5/5 | Loss: 1.5314\n",
      "Epoch: 5/5 | Loss: 2.1164\n",
      "Epoch: 5/5 | Loss: 1.2617\n",
      "Epoch: 5/5 | Loss: 2.2393\n",
      "Epoch: 5/5 | Loss: 1.5242\n",
      "Epoch: 5/5 | Loss: 2.0561\n",
      "Epoch: 5/5 | Loss: 1.4930\n",
      "Epoch: 5/5 | Loss: 2.1260\n",
      "Epoch: 5/5 | Loss: 1.7163\n",
      "Epoch: 5/5 | Loss: 0.6090\n"
     ]
    }
   ],
   "source": [
    "train_cbow(    w1,\n",
    "               w2,\n",
    "               int_words,\n",
    "               n_vocab=n_vocab,\n",
    "               n_embed=n_embed,\n",
    "               learning_rate=lr,\n",
    "               n_negative_samples=n_negative_samples,\n",
    "               batch_size=batch_size,\n",
    "               n_epochs=n_epochs,\n",
    "               print_every=10000)"
   ]
  },
  {
   "cell_type": "markdown",
   "id": "f18d8a91",
   "metadata": {},
   "source": [
    "### Evaluation via Visualization"
   ]
  },
  {
   "cell_type": "code",
   "execution_count": 29,
   "id": "88c995ad",
   "metadata": {},
   "outputs": [
    {
     "name": "stderr",
     "output_type": "stream",
     "text": [
      "/home/nhatvan1561/anaconda3/lib/python3.9/site-packages/sklearn/manifold/_t_sne.py:780: FutureWarning: The default initialization in TSNE will change from 'random' to 'pca' in 1.2.\n",
      "  warnings.warn(\n",
      "/home/nhatvan1561/anaconda3/lib/python3.9/site-packages/sklearn/manifold/_t_sne.py:790: FutureWarning: The default learning rate in TSNE will change from 200.0 to 'auto' in 1.2.\n",
      "  warnings.warn(\n"
     ]
    },
    {
     "data": {
      "image/png": "[encoded data removed]",
      "text/plain": [
       "<Figure size 2000x2000 with 1 Axes>"
      ]
     },
     "metadata": {},
     "output_type": "display_data"
    }
   ],
   "source": [
    "from sklearn.manifold import TSNE\n",
    "import matplotlib.pyplot as plt\n",
    "\n",
    "n_viz_words = 200\n",
    "tsne = TSNE()\n",
    "embeddings_tsne = tsne.fit_transform(embeddings[:n_viz_words, :])\n",
    "\n",
    "fig, ax = plt.subplots(figsize = (20, 20))\n",
    "for i in range(n_viz_words):\n",
    "    plt.scatter(*embeddings_tsne[i, :], color = 'red', s=40)\n",
    "    plt.annotate(i2w[i], (embeddings_tsne[i, 0], embeddings_tsne[i, 1]), alpha = 0.7)"
   ]
  },
  {
   "cell_type": "markdown",
   "id": "89d0a899",
   "metadata": {},
   "source": [
    "### Evaluation via Document Similarity"
   ]
  },
  {
   "cell_type": "code",
   "execution_count": 42,
   "id": "05c9ea70",
   "metadata": {},
   "outputs": [],
   "source": [
    "def transform(query, w2i, embeddings, strategy):\n",
    "    # input: query or document, vocabulary w2i\n",
    "    # input: trained word2vec embeddings\n",
    "    # input: strategy: either 'average' or 'concatenate'\n",
    "    # output: vector representation of the document query\n",
    "    w2v_query = tokenize_doc(query, lemma=use_lemmatization, remove_stopwords=remove_stopwords)\n",
    "    idx = [w2i[word] for word in w2v_query if word in w2i]\n",
    "    v = [embeddings[i] for i in idx]\n",
    "    assert strategy in ['average', 'concatenate']\n",
    "    \n",
    "    # get vectors of each word in the query\n",
    "    \n",
    "    # sentence aggregation strategy\n",
    "    if strategy == 'average':\n",
    "        # TODO START\n",
    "        vector = [em.mean() for em in v]\n",
    "        # vector = \n",
    "        # TODO END\n",
    "    else:\n",
    "        # TODO START\n",
    "        vector = np.ravel(v)\n",
    "        # TODO END\n",
    "    \n",
    "    return vector"
   ]
  },
  {
   "cell_type": "code",
   "execution_count": 39,
   "id": "a04afb72",
   "metadata": {},
   "outputs": [
    {
     "name": "stdout",
     "output_type": "stream",
     "text": [
      "Cosine Similarity: nan\n"
     ]
    },
    {
     "name": "stderr",
     "output_type": "stream",
     "text": [
      "/tmp/ipykernel_5056/3363197586.py:4: RuntimeWarning: invalid value encountered in float_scalars\n",
      "  sim = np.dot(q, v)/(np.linalg.norm(q)* np.linalg.norm(v))\n"
     ]
    }
   ],
   "source": [
    "# test document similarity\n",
    "q = transform('today I am very happy', w2i, embeddings, strategy='concatenate')\n",
    "v = transform('today I feel so fascinated', w2i, embeddings, strategy='concatenate')\n",
    "sim = np.dot(q, v)/(np.linalg.norm(q)* np.linalg.norm(v))\n",
    "print(\"Cosine Similarity: {}\".format(sim)) # this score should be high / close to 1.0"
   ]
  },
  {
   "cell_type": "code",
   "execution_count": 48,
   "id": "1383516e",
   "metadata": {},
   "outputs": [],
   "source": [
    "def evaluation(strategy):\n",
    "    df = pd.read_csv('./quora_train.csv')\n",
    "    print(\"Loaded {} pairs\".format(len(df)))\n",
    "    pairs = list(zip(df['question1'].astype(str), df['question2'].astype(str)))\n",
    "    \n",
    "    all_sims = []\n",
    "    \n",
    "    for doc1, doc2 in tqdm(pairs):\n",
    "        q = transform(doc1, w2i, embeddings, strategy=strategy)\n",
    "        v = transform(doc2, w2i, embeddings, strategy=strategy)\n",
    "        if (q == []) or (v==[]):\n",
    "            continue\n",
    "        diff = len(q) - len(v)\n",
    "        if diff > 0:\n",
    "            v = np.pad(v, (0, np.abs(diff)))\n",
    "        else:\n",
    "            q = np.pad(q, (0, np.abs(diff)))\n",
    "        \n",
    "        sim = np.dot(q, v)/(np.linalg.norm(q)* np.linalg.norm(v))\n",
    "        all_sims.append(sim)\n",
    "        \n",
    "    return np.mean(all_sims)"
   ]
  },
  {
   "cell_type": "code",
   "execution_count": 49,
   "id": "1bf214d4",
   "metadata": {},
   "outputs": [
    {
     "name": "stdout",
     "output_type": "stream",
     "text": [
      "Loaded 13000 pairs\n"
     ]
    },
    {
     "name": "stderr",
     "output_type": "stream",
     "text": [
      "  0%|                                                 | 0/13000 [00:00<?, ?it/s]/tmp/ipykernel_5056/1467545404.py:19: RuntimeWarning: invalid value encountered in double_scalars\n",
      "  sim = np.dot(q, v)/(np.linalg.norm(q)* np.linalg.norm(v))\n",
      "100%|███████████████████████████████████| 13000/13000 [00:03<00:00, 3952.19it/s]"
     ]
    },
    {
     "name": "stdout",
     "output_type": "stream",
     "text": [
      "Final Average Similarity using Average Strategy: nan\n"
     ]
    },
    {
     "name": "stderr",
     "output_type": "stream",
     "text": [
      "\n"
     ]
    }
   ],
   "source": [
    "avg_similarity = evaluation('average')\n",
    "print(\"Final Average Similarity using Average Strategy: {}\".format(avg_similarity))"
   ]
  },
  {
   "cell_type": "code",
   "execution_count": null,
   "id": "b507d17e",
   "metadata": {},
   "outputs": [],
   "source": [
    "avg_similarity = evaluation('concatenate')\n",
    "print(\"Final Average Similarity using Concatenation Strategy: {}\".format(avg_similarity))"
   ]
  }
 ],
 "metadata": {
  "kernelspec": {
   "display_name": "Python 3 (ipykernel)",
   "language": "python",
   "name": "python3"
  },
  "language_info": {
   "codemirror_mode": {
    "name": "ipython",
    "version": 3
   },
   "file_extension": ".py",
   "mimetype": "text/x-python",
   "name": "python",
   "nbconvert_exporter": "python",
   "pygments_lexer": "ipython3",
   "version": "3.9.13"
  },
  "widgets": {
   "application/vnd.jupyter.widget-state+json": {
    "state": {
     "0718306951c543f9ab1700229e5c3e5d": {
      "model_module": "@jupyter-widgets/controls",
      "model_module_version": "1.5.0",
      "model_name": "HTMLModel",
      "state": {
       "layout": "IPY_MODEL_9dbd4eaf2f26468a91a88fd22327460f",
       "style": "IPY_MODEL_375bd16927644612842cf2215d231b6b",
       "value": " 1/1 [00:00&lt;00:00,  1.83it/s]"
      }
     },
     "29e273c83d6d4107849fb5ac592ed40c": {
      "model_module": "@jupyter-widgets/controls",
      "model_module_version": "1.5.0",
      "model_name": "ProgressStyleModel",
      "state": {
       "description_width": ""
      }
     },
     "2e6d280046ae4371bc8e4f3519c4c142": {
      "model_module": "@jupyter-widgets/controls",
      "model_module_version": "1.5.0",
      "model_name": "DescriptionStyleModel",
      "state": {
       "description_width": ""
      }
     },
     "375bd16927644612842cf2215d231b6b": {
      "model_module": "@jupyter-widgets/controls",
      "model_module_version": "1.5.0",
      "model_name": "DescriptionStyleModel",
      "state": {
       "description_width": ""
      }
     },
     "539046ed413540b8929a07b234771d6b": {
      "model_module": "@jupyter-widgets/controls",
      "model_module_version": "1.5.0",
      "model_name": "HTMLModel",
      "state": {
       "layout": "IPY_MODEL_8d857fdcc2e3494b94923334716c0336",
       "style": "IPY_MODEL_2e6d280046ae4371bc8e4f3519c4c142",
       "value": "100%"
      }
     },
     "5b08beeb860c43328729559b1394f2d8": {
      "model_module": "@jupyter-widgets/base",
      "model_module_version": "1.2.0",
      "model_name": "LayoutModel",
      "state": {}
     },
     "7b3f683b32eb4a6791ebc0283dcd524a": {
      "model_module": "@jupyter-widgets/controls",
      "model_module_version": "1.5.0",
      "model_name": "HBoxModel",
      "state": {
       "children": [
        "IPY_MODEL_539046ed413540b8929a07b234771d6b",
        "IPY_MODEL_99e74ce0b94a497f971d09f794564e6f",
        "IPY_MODEL_0718306951c543f9ab1700229e5c3e5d"
       ],
       "layout": "IPY_MODEL_5b08beeb860c43328729559b1394f2d8"
      }
     },
     "8d857fdcc2e3494b94923334716c0336": {
      "model_module": "@jupyter-widgets/base",
      "model_module_version": "1.2.0",
      "model_name": "LayoutModel",
      "state": {}
     },
     "99e74ce0b94a497f971d09f794564e6f": {
      "model_module": "@jupyter-widgets/controls",
      "model_module_version": "1.5.0",
      "model_name": "FloatProgressModel",
      "state": {
       "bar_style": "success",
       "layout": "IPY_MODEL_cab5c9b4fd08470cb51b1bd2dbda7e23",
       "max": 1,
       "style": "IPY_MODEL_29e273c83d6d4107849fb5ac592ed40c",
       "value": 1
      }
     },
     "9dbd4eaf2f26468a91a88fd22327460f": {
      "model_module": "@jupyter-widgets/base",
      "model_module_version": "1.2.0",
      "model_name": "LayoutModel",
      "state": {}
     },
     "cab5c9b4fd08470cb51b1bd2dbda7e23": {
      "model_module": "@jupyter-widgets/base",
      "model_module_version": "1.2.0",
      "model_name": "LayoutModel",
      "state": {}
     }
    },
    "version_major": 2,
    "version_minor": 0
   }
  }
 },
 "nbformat": 4,
 "nbformat_minor": 5
}
