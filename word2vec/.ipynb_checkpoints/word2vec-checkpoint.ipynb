{
 "cells": [
  {
   "cell_type": "code",
   "execution_count": null,
   "id": "b496481c",
   "metadata": {},
   "outputs": [],
   "source": [
    "import numpy as np\n",
    "import pandas as pd\n",
    "import random \n",
    "import torch\n",
    "from nltk.corpus import stopwords\n",
    "from collections import Counter\n",
    "\n",
    "from nltk.tokenize import wordpunct_tokenize\n",
    "from nltk.stem import WordNetLemmatizer\n",
    "from collections import OrderedDict\n",
    "from nltk.corpus import stopwords\n",
    "\n",
    "from torch import nn\n",
    "from torch.functional import F\n",
    "from torch import optim\n",
    "from tqdm import tqdm"
   ]
  },
  {
   "cell_type": "code",
   "execution_count": null,
   "id": "e6cb8b00",
   "metadata": {},
   "outputs": [],
   "source": [
    "def tokenize_doc(sent, \n",
    "                 lemma=False, \n",
    "                 remove_stopwords=False):\n",
    "    \n",
    "    # a simple tokenizer with case folding and an option to use lemmatization\n",
    "    sent = sent.lower()\n",
    "    tokens = sent.split()\n",
    "    if lemma:\n",
    "        tokens = [lemmatizer.lemmatize(token) for token in tokens]\n",
    "    if remove_stopwords:\n",
    "        \n",
    "        tokens = [token for token in tokens if token not in stopwords.words('english')]\n",
    "    return tokens\n",
    "\n",
    "def basic_text_processing(corpus, num_words):\n",
    "    vocab = set()\n",
    "    all_tokens = []\n",
    "    \n",
    "    # tokenization\n",
    "    for doc in tqdm(corpus):\n",
    "        tokens = tokenize_doc(doc, lemma=False, remove_stopwords=False)\n",
    "        vocab.update(set(tokens))\n",
    "        all_tokens.extend(tokens)\n",
    "    \n",
    "    # TODO START\n",
    "    # We only want to train with the top num_words MOST FREQUENT words\n",
    "    # Output a variable called ``train_tokens\" that is similar to all_tokens\n",
    "    # variable but without infrequent words\n",
    "    freq = Counter(all_tokens)\n",
    "    train_tokens = [word for word in all_tokens if freq[word] > 3]\n",
    "    # train_tokens = \n",
    "    # TODO END\n",
    "    \n",
    "    # generating vocabulary from the train_tokens\n",
    "    word_counts = Counter(train_tokens)\n",
    "    sorted_vocab = sorted(word_counts, key=word_counts.get, reverse=True) \n",
    "    i2w = {ii: word for ii, word in enumerate(sorted_vocab)}\n",
    "    w2i = {word: ii for ii, word in i2w.items()}\n",
    "    \n",
    "    return w2i, i2w, train_tokens"
   ]
  },
  {
   "cell_type": "code",
   "execution_count": null,
   "id": "05b360ce",
   "metadata": {},
   "outputs": [],
   "source": [
    "def get_targets(words, idx, window_size=5):\n",
    "    R = random.randint(1, 5)\n",
    "    start = max(0,idx-R)\n",
    "    end = min(idx+R,len(words)-1)\n",
    "    targets = words[start:idx] + words[idx+1:end+1] # +1 since doesn't include this idx\n",
    "    return targets"
   ]
  },
  {
   "cell_type": "code",
   "execution_count": null,
   "id": "c8a6fc24",
   "metadata": {},
   "outputs": [],
   "source": [
    "def get_batches(words, batch_size, window_size = 5):\n",
    "    for i in range(0, len(words), batch_size):\n",
    "        curr = words[i:i + batch_size]   # current batch\n",
    "        batch_x, batch_y = [], []\n",
    "        \n",
    "        for ii in range(len(curr)):\n",
    "            x = [curr[ii]]\n",
    "            y = get_targets(curr, ii)\n",
    "            batch_x.extend(x * len(y))\n",
    "            batch_y.extend(y)\n",
    "        \n",
    "        yield batch_x, batch_y"
   ]
  },
  {
   "cell_type": "code",
   "execution_count": null,
   "id": "82365530",
   "metadata": {},
   "outputs": [],
   "source": [
    "#CC-News dataset contains news articles from news sites all over the world. \n",
    "#The data is available on AWS S3 in the Common Crawl bucket at /crawl-data/CC-NEWS/. \n",
    "#This version of the dataset has been prepared using news-please - an integrated web crawler and information extractor for news.\n",
    "#It contains 708241 English language news articles published between Jan 2017 and December 2019. \n",
    "#It represents a small portion of the English language subset of the CC-News dataset.\n",
    "\n",
    "from datasets import load_dataset\n",
    "dataset = load_dataset(\"cc_news\")\n",
    "corpus = dataset['train']['text'][:150000]"
   ]
  },
  {
   "cell_type": "code",
   "execution_count": null,
   "id": "54236747",
   "metadata": {},
   "outputs": [],
   "source": [
    "# all configurations go here\n",
    "# TODO\n",
    "# You will need to set configurations below to a suitable values\n",
    "# As for learning rate, the current value should work (but you are welcome to change it)\n",
    "n_vocab = 50000  # maximum size of vocab\n",
    "n_embed = 500 # size of embedding\n",
    "lr = 0.001 # learning rate\n",
    "n_negative_samples = 100 # number negative examples per positive example\n",
    "ws = 5  # window size\n",
    "batch_size =  500 # batch size for sampling positive examples\n",
    "n_epochs =  10# number of training epochs\n",
    "device = 'cpu'"
   ]
  },
  {
   "cell_type": "code",
   "execution_count": null,
   "id": "d89e2023",
   "metadata": {},
   "outputs": [],
   "source": [
    "# this cell might take 20 minutes to run, so be patient!\n",
    "# optional: you might want to save these intermediate results to disk\n",
    "# so that next time you open Google Colab, you don't need to\n",
    "# run this again\n",
    "w2i, i2w, train_tokens = basic_text_processing(corpus, num_words=n_vocab)\n",
    "int_words = [w2i[token] for token in train_tokens]\n",
    "print(\"Vocab Size:\", len(w2i))"
   ]
  },
  {
   "cell_type": "markdown",
   "id": "8b3ced48",
   "metadata": {},
   "source": [
    "### Training"
   ]
  },
  {
   "cell_type": "code",
   "execution_count": null,
   "id": "540d1f17",
   "metadata": {},
   "outputs": [],
   "source": [
    "def train_skipgram(W,\n",
    "                   C,\n",
    "                   int_words,\n",
    "                   n_vocab,\n",
    "                   n_embed,\n",
    "                   learning_rate,\n",
    "                   n_negative_samples,\n",
    "                   batch_size,\n",
    "                   window_size,\n",
    "                   n_epochs,\n",
    "                   print_every=100):\n",
    "    \n",
    "    optimizer = optim.Adam([W, C], lr=learning_rate)    \n",
    "    \n",
    "    W = torch.nn.init.uniform_(W, -0.10, +0.10)\n",
    "    C = torch.nn.init.uniform_(C, -0.10, +0.10)\n",
    "\n",
    "    step = 0\n",
    "    \n",
    "    for epoch in range(n_epochs):\n",
    "        for inputs, targets in get_batches(int_words, batch_size=batch_size, window_size=window_size):\n",
    "            step += 1\n",
    "            \n",
    "            targets_indices = torch.LongTensor(inputs).to(device)\n",
    "            contexts_indices = torch.LongTensor(targets).to(device)\n",
    "            \n",
    "            # retrieve vectors of target words and positive context words\n",
    "            embeded_targets = W[targets_indices]\n",
    "            embeded_pos_contexts = C[contexts_indices]\n",
    "            \n",
    "            batch_size, embed_size = embeded_targets.shape\n",
    "            \n",
    "            # retrieve vectors of negative examples\n",
    "            noise_dist = torch.ones(n_vocab)\n",
    "            noise_words = torch.multinomial(noise_dist, \n",
    "                                            num_samples=batch_size*n_negative_samples, \n",
    "                                            replacement=True)\n",
    "            noise_words = noise_words.to(device)\n",
    "            embed_neg_contexts = C[noise_words].view(batch_size, n_negative_samples, n_embed)\n",
    "            \n",
    "            \n",
    "            # TODO START\n",
    "            # calculating the final loss and output it to ``loss\" variable\n",
    "            # loss = \n",
    "            # TODO END\n",
    "            \n",
    "            \n",
    "            # optimization\n",
    "            #optimizer.zero_grad()\n",
    "            #loss.backward()\n",
    "            #optimizer.step()\n",
    "            \n",
    "            if (step % print_every) == 0:\n",
    "                print(\"Epoch: {}/{} | Loss: {:.4f}\".format(epoch+1, n_epochs, loss.item()))"
   ]
  },
  {
   "cell_type": "code",
   "execution_count": null,
   "id": "4747672d",
   "metadata": {},
   "outputs": [],
   "source": [
    "# initialization of W and C weight matrix\n",
    "W = torch.nn.Parameter(torch.zeros((n_vocab, n_embed), dtype=torch.float32))\n",
    "C = torch.nn.Parameter(torch.zeros((n_vocab, n_embed), dtype=torch.float32))"
   ]
  },
  {
   "cell_type": "code",
   "execution_count": null,
   "id": "fb795023",
   "metadata": {},
   "outputs": [],
   "source": [
    "train_skipgram(W,\n",
    "               C,\n",
    "               int_words,\n",
    "               n_vocab=n_vocab,\n",
    "               n_embed=n_embed,\n",
    "               learning_rate=lr,\n",
    "               n_negative_samples=n_negative_samples,\n",
    "               batch_size=batch_size,\n",
    "               window_size=ws,\n",
    "               n_epochs=n_epochs,\n",
    "               print_every=100)"
   ]
  },
  {
   "cell_type": "code",
   "execution_count": null,
   "id": "eac96ed5",
   "metadata": {},
   "outputs": [],
   "source": [
    "# final embeddings is the summation of the two matrix (check lecture slides)\n",
    "embeddings = W.data.to('cpu').data.numpy()\n",
    "embeddings += C.data.to('cpu').data.numpy()"
   ]
  },
  {
   "cell_type": "markdown",
   "id": "f18d8a91",
   "metadata": {},
   "source": [
    "### Evaluation via Visualization"
   ]
  },
  {
   "cell_type": "code",
   "execution_count": null,
   "id": "88c995ad",
   "metadata": {},
   "outputs": [],
   "source": [
    "from sklearn.manifold import TSNE\n",
    "import matplotlib.pyplot as plt\n",
    "\n",
    "n_viz_words = 250\n",
    "tsne = TSNE()\n",
    "embeddings_tsne = tsne.fit_transform(embeddings[:n_viz_words, :])\n",
    "\n",
    "fig, ax = plt.subplots(figsize = (10, 10))\n",
    "for i in range(n_viz_words):\n",
    "    plt.scatter(*embeddings_tsne[i, :], color = 'red', s=40)\n",
    "    plt.annotate(i2w[i], (embeddings_tsne[i, 0], embeddings_tsne[i, 1]), alpha = 0.7)"
   ]
  },
  {
   "cell_type": "markdown",
   "id": "89d0a899",
   "metadata": {},
   "source": [
    "### Evaluation via Document Similarity"
   ]
  },
  {
   "cell_type": "code",
   "execution_count": null,
   "id": "9cb599d1",
   "metadata": {},
   "outputs": [],
   "source": [
    "lemmatizer = WordNetLemmatizer()\n",
    "use_lemmatization = False\n",
    "remove_stopwords = False"
   ]
  },
  {
   "cell_type": "code",
   "execution_count": null,
   "id": "05c9ea70",
   "metadata": {},
   "outputs": [],
   "source": [
    "def transform(query, w2i, embeddings, strategy):\n",
    "    # TODO\n",
    "    # input: query or document, vocabulary w2i\n",
    "    # input: trained word2vec embeddings\n",
    "    # input: strategy: either 'average' or 'concatenate'\n",
    "    # output: vector representation of the document query\n",
    "    assert strategy in ['average', 'concatenate']\n",
    "    \n",
    "    # get vectors of each word in the query\n",
    "    \n",
    "    # sentence aggregation strategy\n",
    "    if strategy == 'average':\n",
    "        # TODO START\n",
    "        # vector = \n",
    "        # TODO END\n",
    "    else:\n",
    "        # TODO START\n",
    "        # vector = \n",
    "        # TODO END\n",
    "    \n",
    "    return vector"
   ]
  },
  {
   "cell_type": "code",
   "execution_count": null,
   "id": "a04afb72",
   "metadata": {},
   "outputs": [],
   "source": [
    "# test document similarity\n",
    "q = transform('today I am very happy', w2i, embeddings, strategy='average')\n",
    "v = transform('today I feel so fantastic', w2i, embeddings, strategy='average')\n",
    "sim = np.dot(q, v)/(np.linalg.norm(q)* np.linalg.norm(v))\n",
    "print(\"Cosine Similarity: {}\".format(sim)) # this score should be high / close to 1.0"
   ]
  },
  {
   "cell_type": "code",
   "execution_count": null,
   "id": "1383516e",
   "metadata": {},
   "outputs": [],
   "source": [
    "def evaluation(strategy):\n",
    "    df = pd.read_csv('./quora_train.csv')\n",
    "    print(\"Loaded {} pairs\".format(len(df)))\n",
    "    pairs = list(zip(df['question1'].astype(str), df['question2'].astype(str)))\n",
    "    \n",
    "    all_sims = []\n",
    "    \n",
    "    for doc1, doc2 in tqdm(pairs):\n",
    "        q = transform(doc1, w2i, embeddings, strategy=strategy)\n",
    "        v = transform(doc2, w2i, embeddings, strategy=strategy)\n",
    "        \n",
    "        diff = len(q) - len(v)\n",
    "        if diff > 0:\n",
    "            v = np.pad(v, (0, np.abs(diff)))\n",
    "        else:\n",
    "            q = np.pad(q, (0, np.abs(diff)))\n",
    "        \n",
    "        sim = np.dot(q, v)/(np.linalg.norm(q)* np.linalg.norm(v))\n",
    "        all_sims.append(sim)\n",
    "        \n",
    "    return np.mean(all_sims)"
   ]
  },
  {
   "cell_type": "code",
   "execution_count": null,
   "id": "1bf214d4",
   "metadata": {},
   "outputs": [],
   "source": [
    "avg_similarity = evaluation('average')\n",
    "print(\"Final Average Similarity using Average Strategy: {}\".format(avg_similarity))"
   ]
  },
  {
   "cell_type": "code",
   "execution_count": null,
   "id": "b507d17e",
   "metadata": {},
   "outputs": [],
   "source": [
    "avg_similarity = evaluation('concatenate')\n",
    "print(\"Final Average Similarity using Concatenation Strategy: {}\".format(avg_similarity))"
   ]
  }
 ],
 "metadata": {
  "kernelspec": {
   "display_name": "Python 3 (ipykernel)",
   "language": "python",
   "name": "python3"
  },
  "language_info": {
   "codemirror_mode": {
    "name": "ipython",
    "version": 3
   },
   "file_extension": ".py",
   "mimetype": "text/x-python",
   "name": "python",
   "nbconvert_exporter": "python",
   "pygments_lexer": "ipython3",
   "version": "3.9.13"
  }
 },
 "nbformat": 4,
 "nbformat_minor": 5
}
